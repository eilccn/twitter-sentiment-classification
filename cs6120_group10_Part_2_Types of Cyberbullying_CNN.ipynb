{
  "cells": [
    {
      "cell_type": "markdown",
      "id": "r-_SyjThcoeu",
      "metadata": {
        "id": "r-_SyjThcoeu"
      },
      "source": [
        "# Cyberbullying Text Classification\n",
        "CS6120 Group 10: Pushyanth Damarapati, Sindhya Balasubramanian, Eileen Chang, Priyanka Padinam\n",
        "\n",
        "### Description\n",
        "The rise of social media and the recent couple of years of covid-19 lockdown has led to a concerning increase in cyberbullying cases. In 2020, UNICEF even issued a warning in response to the increased cyberbullying compounded by social distancing and increased screen-time. Those who bully others on the internet have the convenience of being able to hide anonymously behind a screen, but the people who are bullied are likely to develop mental-health issues that persist even after the bullying has ceased. Due to social media’s ability to spread information quickly and anonymously, a single person can easily end up being targeted by a large number of people of various demographics. We aim to create a model that will flag harmful tweets and, therefore, protect targets of cyberbullying.\n",
        "\n",
        "### Dataset\n",
        "We will be using a kaggle dataset, Cyberbullying Classification, consisting of more than 47,000 tweets labeled according to 6 classes of cyberbullying: Age, Ethnicity, Gender, Religion, Other type of cyberbullying, and Not cyberbullying. Each row of the dataset will have a tweet and its class of cyberbullying. The dataset is meant to be used to create a multi-classification model to predict cyberbullying type, create a binary classification model to flag potentially harmful tweets, and examine words and patterns associated with each type of cyberbullying."
      ]
    },
    {
      "cell_type": "markdown",
      "id": "1rcwM94Gcoe9",
      "metadata": {
        "id": "1rcwM94Gcoe9"
      },
      "source": [
        "# Importing Dataset and Libraries"
      ]
    },
    {
      "cell_type": "code",
      "execution_count": 1,
      "id": "UHkD1hmicoe-",
      "metadata": {
        "colab": {
          "base_uri": "https://localhost:8080/"
        },
        "id": "UHkD1hmicoe-",
        "outputId": "560ca61f-fcc0-4ed8-bc58-14ba4f4b6d44"
      },
      "outputs": [
        {
          "name": "stdout",
          "output_type": "stream",
          "text": [
            "Looking in indexes: https://pypi.org/simple, https://us-python.pkg.dev/colab-wheels/public/simple/\n",
            "Collecting contractions\n",
            "  Downloading contractions-0.1.73-py2.py3-none-any.whl (8.7 kB)\n",
            "Collecting textsearch>=0.0.21\n",
            "  Downloading textsearch-0.0.24-py2.py3-none-any.whl (7.6 kB)\n",
            "Collecting anyascii\n",
            "  Downloading anyascii-0.3.1-py3-none-any.whl (287 kB)\n",
            "\u001b[K     |████████████████████████████████| 287 kB 13.8 MB/s \n",
            "\u001b[?25hCollecting pyahocorasick\n",
            "  Downloading pyahocorasick-1.4.4-cp38-cp38-manylinux_2_17_x86_64.manylinux2014_x86_64.whl (110 kB)\n",
            "\u001b[K     |████████████████████████████████| 110 kB 85.2 MB/s \n",
            "\u001b[?25hInstalling collected packages: pyahocorasick, anyascii, textsearch, contractions\n",
            "Successfully installed anyascii-0.3.1 contractions-0.1.73 pyahocorasick-1.4.4 textsearch-0.0.24\n",
            "Looking in indexes: https://pypi.org/simple, https://us-python.pkg.dev/colab-wheels/public/simple/\n",
            "Collecting autocorrect\n",
            "  Downloading autocorrect-2.6.1.tar.gz (622 kB)\n",
            "\u001b[K     |████████████████████████████████| 622 kB 12.4 MB/s \n",
            "\u001b[?25hBuilding wheels for collected packages: autocorrect\n",
            "  Building wheel for autocorrect (setup.py) ... \u001b[?25l\u001b[?25hdone\n",
            "  Created wheel for autocorrect: filename=autocorrect-2.6.1-py3-none-any.whl size=622381 sha256=1d2e133909d793848218a6c437d889e98ef16cbf751330114b9768af45127cdf\n",
            "  Stored in directory: /root/.cache/pip/wheels/72/b8/3b/a90246d13090e85394a8a44b78c8abf577c0766f29d6543c75\n",
            "Successfully built autocorrect\n",
            "Installing collected packages: autocorrect\n",
            "Successfully installed autocorrect-2.6.1\n"
          ]
        }
      ],
      "source": [
        "!pip install contractions\n",
        "# !pip install nltk\n",
        "!pip install autocorrect \n",
        "# !pip install --upgrade matplotlib"
      ]
    },
    {
      "cell_type": "code",
      "execution_count": 2,
      "id": "CzEY-dujcofA",
      "metadata": {
        "colab": {
          "base_uri": "https://localhost:8080/"
        },
        "id": "CzEY-dujcofA",
        "outputId": "31f40f77-a363-4119-cceb-b56a9bd297c6"
      },
      "outputs": [
        {
          "name": "stderr",
          "output_type": "stream",
          "text": [
            "[nltk_data] Downloading package wordnet to /root/nltk_data...\n",
            "[nltk_data] Downloading package punkt to /root/nltk_data...\n",
            "[nltk_data]   Unzipping tokenizers/punkt.zip.\n",
            "[nltk_data] Downloading package stopwords to /root/nltk_data...\n",
            "[nltk_data]   Unzipping corpora/stopwords.zip.\n"
          ]
        }
      ],
      "source": [
        "import string \n",
        "import nltk \n",
        "import re # regex\n",
        "from string import punctuation \n",
        "from nltk.corpus import stopwords \n",
        "from nltk.stem import WordNetLemmatizer \n",
        "# from autocorrect import Speller # correct spelling\n",
        "nltk.download('wordnet')\n",
        "nltk.download('punkt')\n",
        "nltk.download('stopwords')\n",
        "\n",
        "#Libraries \n",
        "import matplotlib.pyplot as plt\n",
        "import seaborn as sns\n",
        "\n",
        "\n",
        "#Data preprocessing\n",
        "from sklearn import preprocessing\n",
        "from sklearn.model_selection import train_test_split\n",
        "# from imblearn.over_sampling import RandomOverSampler\n",
        "\n",
        "# #Naive Bayes\n",
        "from sklearn.feature_extraction.text import CountVectorizer\n",
        "from sklearn.feature_extraction.text import TfidfTransformer\n",
        "from sklearn.feature_extraction.text import TfidfVectorizer\n",
        "from sklearn.naive_bayes import MultinomialNB\n",
        "\n",
        "import os"
      ]
    },
    {
      "cell_type": "code",
      "execution_count": 4,
      "id": "cG9DlMZQcofB",
      "metadata": {
        "colab": {
          "base_uri": "https://localhost:8080/"
        },
        "id": "cG9DlMZQcofB",
        "outputId": "d41602b6-aada-4595-f461-6fd96de6a032"
      },
      "outputs": [
        {
          "data": {
            "text/plain": [
              "gender               7973\n",
              "not_cyberbullying    7945\n",
              "religion             5490\n",
              "Name: cyberbullying_type, dtype: int64"
            ]
          },
          "execution_count": 4,
          "metadata": {},
          "output_type": "execute_result"
        }
      ],
      "source": [
        "import numpy as np\n",
        "import pandas as pd\n",
        "\n",
        "df = pd.read_csv('cyberbullying_tweets.csv')\n",
        "df['cyberbullying_type'].value_counts()"
      ]
    },
    {
      "cell_type": "markdown",
      "id": "oNyDoZRUcofB",
      "metadata": {
        "id": "oNyDoZRUcofB"
      },
      "source": [
        "**There is not much imbalance between different cyberbulling type. other_cyberbulling will be removed since it may cause a confusion for the models with other cyberbullying class.**"
      ]
    },
    {
      "cell_type": "code",
      "execution_count": 5,
      "id": "OVh5OXeZcofC",
      "metadata": {
        "colab": {
          "base_uri": "https://localhost:8080/"
        },
        "id": "OVh5OXeZcofC",
        "outputId": "86b63dfa-029c-4fd6-fa12-5b5496eb526e"
      },
      "outputs": [
        {
          "data": {
            "text/plain": [
              "gender               7973\n",
              "not_cyberbullying    7945\n",
              "religion             5490\n",
              "Name: cyberbullying_type, dtype: int64"
            ]
          },
          "execution_count": 5,
          "metadata": {},
          "output_type": "execute_result"
        }
      ],
      "source": [
        "df.drop(df[df['cyberbullying_type'] == 'other_cyberbullying'].index, inplace = True)\n",
        "df['cyberbullying_type'].value_counts()"
      ]
    },
    {
      "cell_type": "markdown",
      "id": "lC7eld_xcofC",
      "metadata": {
        "id": "lC7eld_xcofC"
      },
      "source": [
        "# 1. Data Preprocessing"
      ]
    },
    {
      "cell_type": "code",
      "execution_count": 6,
      "id": "mDVMe-EicofC",
      "metadata": {
        "id": "mDVMe-EicofC"
      },
      "outputs": [],
      "source": [
        "# Renaming Categories\n",
        "df = df.rename(columns={'tweet_text': 'text', 'cyberbullying_type': 'sentiment'})"
      ]
    },
    {
      "cell_type": "code",
      "execution_count": 8,
      "id": "zik4RA5IcofD",
      "metadata": {
        "colab": {
          "base_uri": "https://localhost:8080/",
          "height": 363
        },
        "id": "zik4RA5IcofD",
        "outputId": "b0674a03-e7a7-43da-a21f-a0672ae2c63e"
      },
      "outputs": [
        {
          "data": {
            "text/html": [
              "\n",
              "  <div id=\"df-e44308f5-8f1c-4c4c-8b95-b11f7a8e0ef4\">\n",
              "    <div class=\"colab-df-container\">\n",
              "      <div>\n",
              "<style scoped>\n",
              "    .dataframe tbody tr th:only-of-type {\n",
              "        vertical-align: middle;\n",
              "    }\n",
              "\n",
              "    .dataframe tbody tr th {\n",
              "        vertical-align: top;\n",
              "    }\n",
              "\n",
              "    .dataframe thead th {\n",
              "        text-align: right;\n",
              "    }\n",
              "</style>\n",
              "<table border=\"1\" class=\"dataframe\">\n",
              "  <thead>\n",
              "    <tr style=\"text-align: right;\">\n",
              "      <th></th>\n",
              "      <th>text</th>\n",
              "      <th>sentiment</th>\n",
              "    </tr>\n",
              "  </thead>\n",
              "  <tbody>\n",
              "    <tr>\n",
              "      <th>7003</th>\n",
              "      <td>RT @PattyArquette: Don't talk to me about priv...</td>\n",
              "      <td>not_cyberbullying</td>\n",
              "    </tr>\n",
              "    <tr>\n",
              "      <th>12082</th>\n",
              "      <td>RT @ChrisWarcraft: @freebsdgirl</td>\n",
              "      <td>gender</td>\n",
              "    </tr>\n",
              "    <tr>\n",
              "      <th>5235</th>\n",
              "      <td>Cannot headdesk hard enough.</td>\n",
              "      <td>not_cyberbullying</td>\n",
              "    </tr>\n",
              "    <tr>\n",
              "      <th>17227</th>\n",
              "      <td>“Extremism is so easy when you go far enough t...</td>\n",
              "      <td>religion</td>\n",
              "    </tr>\n",
              "    <tr>\n",
              "      <th>18864</th>\n",
              "      <td>Both idiots are trying hard to defame India ov...</td>\n",
              "      <td>religion</td>\n",
              "    </tr>\n",
              "    <tr>\n",
              "      <th>16470</th>\n",
              "      <td>Who hates us man you live in your social media...</td>\n",
              "      <td>religion</td>\n",
              "    </tr>\n",
              "    <tr>\n",
              "      <th>16952</th>\n",
              "      <td>Simple truth if Jesus Christ ran for president...</td>\n",
              "      <td>religion</td>\n",
              "    </tr>\n",
              "    <tr>\n",
              "      <th>6801</th>\n",
              "      <td>Monday tests are brutal. BRUTAL. They should b...</td>\n",
              "      <td>not_cyberbullying</td>\n",
              "    </tr>\n",
              "    <tr>\n",
              "      <th>6808</th>\n",
              "      <td>Starve a bully, feed your soul.. STAND #GRAND!...</td>\n",
              "      <td>not_cyberbullying</td>\n",
              "    </tr>\n",
              "    <tr>\n",
              "      <th>12831</th>\n",
              "      <td>@DrJoanBeckwith So, no issue with her doing th...</td>\n",
              "      <td>gender</td>\n",
              "    </tr>\n",
              "  </tbody>\n",
              "</table>\n",
              "</div>\n",
              "      <button class=\"colab-df-convert\" onclick=\"convertToInteractive('df-e44308f5-8f1c-4c4c-8b95-b11f7a8e0ef4')\"\n",
              "              title=\"Convert this dataframe to an interactive table.\"\n",
              "              style=\"display:none;\">\n",
              "        \n",
              "  <svg xmlns=\"http://www.w3.org/2000/svg\" height=\"24px\"viewBox=\"0 0 24 24\"\n",
              "       width=\"24px\">\n",
              "    <path d=\"M0 0h24v24H0V0z\" fill=\"none\"/>\n",
              "    <path d=\"M18.56 5.44l.94 2.06.94-2.06 2.06-.94-2.06-.94-.94-2.06-.94 2.06-2.06.94zm-11 1L8.5 8.5l.94-2.06 2.06-.94-2.06-.94L8.5 2.5l-.94 2.06-2.06.94zm10 10l.94 2.06.94-2.06 2.06-.94-2.06-.94-.94-2.06-.94 2.06-2.06.94z\"/><path d=\"M17.41 7.96l-1.37-1.37c-.4-.4-.92-.59-1.43-.59-.52 0-1.04.2-1.43.59L10.3 9.45l-7.72 7.72c-.78.78-.78 2.05 0 2.83L4 21.41c.39.39.9.59 1.41.59.51 0 1.02-.2 1.41-.59l7.78-7.78 2.81-2.81c.8-.78.8-2.07 0-2.86zM5.41 20L4 18.59l7.72-7.72 1.47 1.35L5.41 20z\"/>\n",
              "  </svg>\n",
              "      </button>\n",
              "      \n",
              "  <style>\n",
              "    .colab-df-container {\n",
              "      display:flex;\n",
              "      flex-wrap:wrap;\n",
              "      gap: 12px;\n",
              "    }\n",
              "\n",
              "    .colab-df-convert {\n",
              "      background-color: #E8F0FE;\n",
              "      border: none;\n",
              "      border-radius: 50%;\n",
              "      cursor: pointer;\n",
              "      display: none;\n",
              "      fill: #1967D2;\n",
              "      height: 32px;\n",
              "      padding: 0 0 0 0;\n",
              "      width: 32px;\n",
              "    }\n",
              "\n",
              "    .colab-df-convert:hover {\n",
              "      background-color: #E2EBFA;\n",
              "      box-shadow: 0px 1px 2px rgba(60, 64, 67, 0.3), 0px 1px 3px 1px rgba(60, 64, 67, 0.15);\n",
              "      fill: #174EA6;\n",
              "    }\n",
              "\n",
              "    [theme=dark] .colab-df-convert {\n",
              "      background-color: #3B4455;\n",
              "      fill: #D2E3FC;\n",
              "    }\n",
              "\n",
              "    [theme=dark] .colab-df-convert:hover {\n",
              "      background-color: #434B5C;\n",
              "      box-shadow: 0px 1px 3px 1px rgba(0, 0, 0, 0.15);\n",
              "      filter: drop-shadow(0px 1px 2px rgba(0, 0, 0, 0.3));\n",
              "      fill: #FFFFFF;\n",
              "    }\n",
              "  </style>\n",
              "\n",
              "      <script>\n",
              "        const buttonEl =\n",
              "          document.querySelector('#df-e44308f5-8f1c-4c4c-8b95-b11f7a8e0ef4 button.colab-df-convert');\n",
              "        buttonEl.style.display =\n",
              "          google.colab.kernel.accessAllowed ? 'block' : 'none';\n",
              "\n",
              "        async function convertToInteractive(key) {\n",
              "          const element = document.querySelector('#df-e44308f5-8f1c-4c4c-8b95-b11f7a8e0ef4');\n",
              "          const dataTable =\n",
              "            await google.colab.kernel.invokeFunction('convertToInteractive',\n",
              "                                                     [key], {});\n",
              "          if (!dataTable) return;\n",
              "\n",
              "          const docLinkHtml = 'Like what you see? Visit the ' +\n",
              "            '<a target=\"_blank\" href=https://colab.research.google.com/notebooks/data_table.ipynb>data table notebook</a>'\n",
              "            + ' to learn more about interactive tables.';\n",
              "          element.innerHTML = '';\n",
              "          dataTable['output_type'] = 'display_data';\n",
              "          await google.colab.output.renderOutput(dataTable, element);\n",
              "          const docLink = document.createElement('div');\n",
              "          docLink.innerHTML = docLinkHtml;\n",
              "          element.appendChild(docLink);\n",
              "        }\n",
              "      </script>\n",
              "    </div>\n",
              "  </div>\n",
              "  "
            ],
            "text/plain": [
              "                                                    text          sentiment\n",
              "7003   RT @PattyArquette: Don't talk to me about priv...  not_cyberbullying\n",
              "12082                    RT @ChrisWarcraft: @freebsdgirl             gender\n",
              "5235                        Cannot headdesk hard enough.  not_cyberbullying\n",
              "17227  “Extremism is so easy when you go far enough t...           religion\n",
              "18864  Both idiots are trying hard to defame India ov...           religion\n",
              "16470  Who hates us man you live in your social media...           religion\n",
              "16952  Simple truth if Jesus Christ ran for president...           religion\n",
              "6801   Monday tests are brutal. BRUTAL. They should b...  not_cyberbullying\n",
              "6808   Starve a bully, feed your soul.. STAND #GRAND!...  not_cyberbullying\n",
              "12831  @DrJoanBeckwith So, no issue with her doing th...             gender"
            ]
          },
          "execution_count": 8,
          "metadata": {},
          "output_type": "execute_result"
        }
      ],
      "source": [
        "# Checking 10 samples\n",
        "df.sample(10)"
      ]
    },
    {
      "cell_type": "code",
      "execution_count": 59,
      "id": "yuly-OUP5oAo",
      "metadata": {
        "colab": {
          "base_uri": "https://localhost:8080/",
          "height": 206
        },
        "id": "yuly-OUP5oAo",
        "outputId": "97a5b3d4-981e-44d9-ccdb-24dd385bb549"
      },
      "outputs": [
        {
          "data": {
            "text/html": [
              "\n",
              "  <div id=\"df-c8953aed-0a04-464b-a515-5e0b30e00cb4\">\n",
              "    <div class=\"colab-df-container\">\n",
              "      <div>\n",
              "<style scoped>\n",
              "    .dataframe tbody tr th:only-of-type {\n",
              "        vertical-align: middle;\n",
              "    }\n",
              "\n",
              "    .dataframe tbody tr th {\n",
              "        vertical-align: top;\n",
              "    }\n",
              "\n",
              "    .dataframe thead th {\n",
              "        text-align: right;\n",
              "    }\n",
              "</style>\n",
              "<table border=\"1\" class=\"dataframe\">\n",
              "  <thead>\n",
              "    <tr style=\"text-align: right;\">\n",
              "      <th></th>\n",
              "      <th>text</th>\n",
              "      <th>sentiment</th>\n",
              "      <th>type_bullying</th>\n",
              "    </tr>\n",
              "  </thead>\n",
              "  <tbody>\n",
              "    <tr>\n",
              "      <th>0</th>\n",
              "      <td>word katandandre food crapilicious mkr</td>\n",
              "      <td>not_cyberbullying</td>\n",
              "      <td>1</td>\n",
              "    </tr>\n",
              "    <tr>\n",
              "      <th>1</th>\n",
              "      <td>aussietv white mkr theblock imacelebrityau tod...</td>\n",
              "      <td>not_cyberbullying</td>\n",
              "      <td>1</td>\n",
              "    </tr>\n",
              "    <tr>\n",
              "      <th>2</th>\n",
              "      <td>xochitlsuckkks classy whore red velvet cupcake</td>\n",
              "      <td>not_cyberbullying</td>\n",
              "      <td>1</td>\n",
              "    </tr>\n",
              "    <tr>\n",
              "      <th>3</th>\n",
              "      <td>jasongio meh p thanks head concerned another a...</td>\n",
              "      <td>not_cyberbullying</td>\n",
              "      <td>1</td>\n",
              "    </tr>\n",
              "    <tr>\n",
              "      <th>4</th>\n",
              "      <td>rudhoeenglish isi account pretending kurdish a...</td>\n",
              "      <td>not_cyberbullying</td>\n",
              "      <td>1</td>\n",
              "    </tr>\n",
              "  </tbody>\n",
              "</table>\n",
              "</div>\n",
              "      <button class=\"colab-df-convert\" onclick=\"convertToInteractive('df-c8953aed-0a04-464b-a515-5e0b30e00cb4')\"\n",
              "              title=\"Convert this dataframe to an interactive table.\"\n",
              "              style=\"display:none;\">\n",
              "        \n",
              "  <svg xmlns=\"http://www.w3.org/2000/svg\" height=\"24px\"viewBox=\"0 0 24 24\"\n",
              "       width=\"24px\">\n",
              "    <path d=\"M0 0h24v24H0V0z\" fill=\"none\"/>\n",
              "    <path d=\"M18.56 5.44l.94 2.06.94-2.06 2.06-.94-2.06-.94-.94-2.06-.94 2.06-2.06.94zm-11 1L8.5 8.5l.94-2.06 2.06-.94-2.06-.94L8.5 2.5l-.94 2.06-2.06.94zm10 10l.94 2.06.94-2.06 2.06-.94-2.06-.94-.94-2.06-.94 2.06-2.06.94z\"/><path d=\"M17.41 7.96l-1.37-1.37c-.4-.4-.92-.59-1.43-.59-.52 0-1.04.2-1.43.59L10.3 9.45l-7.72 7.72c-.78.78-.78 2.05 0 2.83L4 21.41c.39.39.9.59 1.41.59.51 0 1.02-.2 1.41-.59l7.78-7.78 2.81-2.81c.8-.78.8-2.07 0-2.86zM5.41 20L4 18.59l7.72-7.72 1.47 1.35L5.41 20z\"/>\n",
              "  </svg>\n",
              "      </button>\n",
              "      \n",
              "  <style>\n",
              "    .colab-df-container {\n",
              "      display:flex;\n",
              "      flex-wrap:wrap;\n",
              "      gap: 12px;\n",
              "    }\n",
              "\n",
              "    .colab-df-convert {\n",
              "      background-color: #E8F0FE;\n",
              "      border: none;\n",
              "      border-radius: 50%;\n",
              "      cursor: pointer;\n",
              "      display: none;\n",
              "      fill: #1967D2;\n",
              "      height: 32px;\n",
              "      padding: 0 0 0 0;\n",
              "      width: 32px;\n",
              "    }\n",
              "\n",
              "    .colab-df-convert:hover {\n",
              "      background-color: #E2EBFA;\n",
              "      box-shadow: 0px 1px 2px rgba(60, 64, 67, 0.3), 0px 1px 3px 1px rgba(60, 64, 67, 0.15);\n",
              "      fill: #174EA6;\n",
              "    }\n",
              "\n",
              "    [theme=dark] .colab-df-convert {\n",
              "      background-color: #3B4455;\n",
              "      fill: #D2E3FC;\n",
              "    }\n",
              "\n",
              "    [theme=dark] .colab-df-convert:hover {\n",
              "      background-color: #434B5C;\n",
              "      box-shadow: 0px 1px 3px 1px rgba(0, 0, 0, 0.15);\n",
              "      filter: drop-shadow(0px 1px 2px rgba(0, 0, 0, 0.3));\n",
              "      fill: #FFFFFF;\n",
              "    }\n",
              "  </style>\n",
              "\n",
              "      <script>\n",
              "        const buttonEl =\n",
              "          document.querySelector('#df-c8953aed-0a04-464b-a515-5e0b30e00cb4 button.colab-df-convert');\n",
              "        buttonEl.style.display =\n",
              "          google.colab.kernel.accessAllowed ? 'block' : 'none';\n",
              "\n",
              "        async function convertToInteractive(key) {\n",
              "          const element = document.querySelector('#df-c8953aed-0a04-464b-a515-5e0b30e00cb4');\n",
              "          const dataTable =\n",
              "            await google.colab.kernel.invokeFunction('convertToInteractive',\n",
              "                                                     [key], {});\n",
              "          if (!dataTable) return;\n",
              "\n",
              "          const docLinkHtml = 'Like what you see? Visit the ' +\n",
              "            '<a target=\"_blank\" href=https://colab.research.google.com/notebooks/data_table.ipynb>data table notebook</a>'\n",
              "            + ' to learn more about interactive tables.';\n",
              "          element.innerHTML = '';\n",
              "          dataTable['output_type'] = 'display_data';\n",
              "          await google.colab.output.renderOutput(dataTable, element);\n",
              "          const docLink = document.createElement('div');\n",
              "          docLink.innerHTML = docLinkHtml;\n",
              "          element.appendChild(docLink);\n",
              "        }\n",
              "      </script>\n",
              "    </div>\n",
              "  </div>\n",
              "  "
            ],
            "text/plain": [
              "                                                text          sentiment  \\\n",
              "0            word katandandre food crapilicious mkr   not_cyberbullying   \n",
              "1  aussietv white mkr theblock imacelebrityau tod...  not_cyberbullying   \n",
              "2    xochitlsuckkks classy whore red velvet cupcake   not_cyberbullying   \n",
              "3  jasongio meh p thanks head concerned another a...  not_cyberbullying   \n",
              "4  rudhoeenglish isi account pretending kurdish a...  not_cyberbullying   \n",
              "\n",
              "   type_bullying  \n",
              "0              1  \n",
              "1              1  \n",
              "2              1  \n",
              "3              1  \n",
              "4              1  "
            ]
          },
          "execution_count": 59,
          "metadata": {},
          "output_type": "execute_result"
        }
      ],
      "source": [
        "df = df.dropna()\n",
        "df.head()"
      ]
    },
    {
      "cell_type": "code",
      "execution_count": 65,
      "id": "HT4K5LYA5s7Q",
      "metadata": {
        "colab": {
          "base_uri": "https://localhost:8080/"
        },
        "id": "HT4K5LYA5s7Q",
        "outputId": "73eb00db-e8e7-4d1c-d47a-a22ddd02b741"
      },
      "outputs": [
        {
          "data": {
            "text/plain": [
              "array([0., 1.], dtype=float32)"
            ]
          },
          "execution_count": 65,
          "metadata": {},
          "output_type": "execute_result"
        }
      ],
      "source": [
        "df[\"type_bullying\"].unique()"
      ]
    },
    {
      "cell_type": "code",
      "execution_count": 95,
      "id": "faP_ii2hig_E",
      "metadata": {
        "id": "faP_ii2hig_E"
      },
      "outputs": [],
      "source": [
        "from sklearn.preprocessing import LabelEncoder\n",
        "LE = LabelEncoder()\n",
        "y = LE.fit_transform(df[\"sentiment\"])"
      ]
    },
    {
      "cell_type": "code",
      "execution_count": 10,
      "id": "Zsw7VXhYpVvL",
      "metadata": {
        "colab": {
          "base_uri": "https://localhost:8080/"
        },
        "id": "Zsw7VXhYpVvL",
        "outputId": "5c57d009-75c4-4674-c1fc-c1bf6bff29a5"
      },
      "outputs": [
        {
          "name": "stderr",
          "output_type": "stream",
          "text": [
            "[nltk_data] Downloading package omw-1.4 to /root/nltk_data...\n"
          ]
        }
      ],
      "source": [
        "from nltk.tokenize import word_tokenize\n",
        "from nltk.stem import PorterStemmer\n",
        "nltk.download('omw-1.4')\n",
        "sw_eng = stopwords.words('english')\n",
        "def clean_review(review):\n",
        "    '''\n",
        "    Input:\n",
        "        review: a string containing a review.\n",
        "    Output:\n",
        "        review_cleaned: a processed review. \n",
        "\n",
        "    '''\n",
        "    review_in_lowercase = review.lower()\n",
        "    no_punctuation = review_in_lowercase.translate(review_in_lowercase.maketrans('', '', string.punctuation))\n",
        "    no_url = re.sub(r'https?:\\/\\/.*[\\r\\n]*','', no_punctuation)\n",
        "    review_tokens = word_tokenize(no_url)\n",
        "    no_stopwords_tokens = [token for token in review_tokens if not token in sw_eng]\n",
        "    porter = PorterStemmer()\n",
        "    lemmatizer = WordNetLemmatizer()\n",
        "    review_cleaned = ''\n",
        "    \n",
        "    for each in no_stopwords_tokens:\n",
        "        review_cleaned = review_cleaned + lemmatizer.lemmatize(each) + \" \"\n",
        "    \n",
        "    return review_cleaned\n",
        "\n",
        "df['text'] = df['text'].apply(lambda x : clean_review(x))"
      ]
    },
    {
      "cell_type": "markdown",
      "id": "061ffe06",
      "metadata": {
        "id": "061ffe06"
      },
      "source": [
        "# 2. Modeling"
      ]
    },
    {
      "cell_type": "markdown",
      "id": "bf6b2e86",
      "metadata": {
        "id": "bf6b2e86"
      },
      "source": [
        "<b>Modeling to Predict Multi-ClassText Classification for types of Cyber Bullying </b>"
      ]
    },
    {
      "cell_type": "markdown",
      "id": "Zu6tV9kNambm",
      "metadata": {
        "id": "Zu6tV9kNambm"
      },
      "source": [
        "Post preprocessing and sampling, the documents will tokenized and converted to an appropriate vector format for model consumption using Bag of Words (countvectorizer)"
      ]
    },
    {
      "cell_type": "code",
      "execution_count": 100,
      "id": "y7tyouOwanSi",
      "metadata": {
        "id": "y7tyouOwanSi"
      },
      "outputs": [],
      "source": [
        "# TFIDF vectorizer on \n",
        "cv = CountVectorizer()\n",
        "\n",
        "# fit and transform on dataset\n",
        "X = cv.fit_transform(df.text).toarray()"
      ]
    },
    {
      "cell_type": "code",
      "execution_count": 77,
      "id": "VKj6-fAf7HRW",
      "metadata": {
        "colab": {
          "base_uri": "https://localhost:8080/"
        },
        "id": "VKj6-fAf7HRW",
        "outputId": "b2502f70-9fdd-45d8-de72-89ddd868b141"
      },
      "outputs": [
        {
          "data": {
            "text/plain": [
              "21408"
            ]
          },
          "execution_count": 77,
          "metadata": {},
          "output_type": "execute_result"
        }
      ],
      "source": [
        "len(df)"
      ]
    },
    {
      "cell_type": "code",
      "execution_count": 102,
      "id": "2RSGtQ3CauZG",
      "metadata": {
        "colab": {
          "base_uri": "https://localhost:8080/"
        },
        "id": "2RSGtQ3CauZG",
        "outputId": "7dfb3c5d-639b-4ae2-fcee-1bc179fced9f"
      },
      "outputs": [
        {
          "data": {
            "text/plain": [
              "21408"
            ]
          },
          "execution_count": 102,
          "metadata": {},
          "output_type": "execute_result"
        }
      ],
      "source": [
        "len(X)"
      ]
    },
    {
      "cell_type": "code",
      "execution_count": 97,
      "id": "_3IswUPPaw1F",
      "metadata": {
        "colab": {
          "base_uri": "https://localhost:8080/"
        },
        "id": "_3IswUPPaw1F",
        "outputId": "46602dba-d98f-4fd2-bbe1-d7b052b190da"
      },
      "outputs": [
        {
          "data": {
            "text/plain": [
              "21408"
            ]
          },
          "execution_count": 97,
          "metadata": {},
          "output_type": "execute_result"
        }
      ],
      "source": [
        "len(y)"
      ]
    },
    {
      "cell_type": "code",
      "execution_count": 101,
      "id": "Yl9jM4hCa095",
      "metadata": {
        "id": "Yl9jM4hCa095"
      },
      "outputs": [],
      "source": [
        "# Divide data into training and test (80%, 20% respectively)\n",
        "\n",
        "x_train, x_test, y_train, y_test = train_test_split(X, y, test_size=0.2);"
      ]
    },
    {
      "cell_type": "code",
      "execution_count": 83,
      "id": "CPPm5yXOa6lM",
      "metadata": {
        "colab": {
          "base_uri": "https://localhost:8080/"
        },
        "id": "CPPm5yXOa6lM",
        "outputId": "079ba8c0-1598-48d2-a4c5-12dca6aea5a7"
      },
      "outputs": [
        {
          "name": "stdout",
          "output_type": "stream",
          "text": [
            "Training Data Shape \n",
            "17126\n",
            "17126\n",
            "Test Data Shape \n",
            "4282\n",
            "4282\n"
          ]
        }
      ],
      "source": [
        "print (\"Training Data Shape \")\n",
        "print(len(x_train))\n",
        "print(len(y_train))\n",
        "print (\"Test Data Shape \")\n",
        "print(len(x_test))\n",
        "print(len(y_test))"
      ]
    },
    {
      "cell_type": "code",
      "execution_count": 103,
      "id": "pmTQhB0u4qZS",
      "metadata": {
        "id": "pmTQhB0u4qZS"
      },
      "outputs": [],
      "source": [
        "# Padding sequences\n",
        "from tensorflow.keras.preprocessing.sequence import pad_sequences\n",
        "\n",
        "max_size = len(max(x_train,key=lambda x_train:len(x_train)))\n",
        "x_train = pad_sequences(x_train, maxlen=max_size, padding='post')"
      ]
    },
    {
      "cell_type": "markdown",
      "id": "Rwyx1jFNbBlG",
      "metadata": {
        "id": "Rwyx1jFNbBlG"
      },
      "source": [
        "The CNN and GCN model will be experimented with to accomplish text classification. Below is the CNN implementation with different regularization and dropout layers"
      ]
    },
    {
      "cell_type": "code",
      "execution_count": 27,
      "id": "wXv5b_wibHO9",
      "metadata": {
        "id": "wXv5b_wibHO9"
      },
      "outputs": [],
      "source": [
        "import tensorflow as tf\n",
        "from tensorflow.keras import layers\n",
        "from tensorflow.keras import activations\n",
        "from tensorflow.keras.models import Sequential\n",
        "from tensorflow.keras.layers import InputLayer\n",
        "from tensorflow.keras.layers import Dense\n",
        "from tensorflow.keras.layers import Dropout\n",
        "from tensorflow.keras.regularizers import l2\n",
        "from tensorflow.keras.layers import Convolution1D\n",
        "from keras.optimizers import SGD \n",
        "from tensorflow.keras.utils import to_categorical\n",
        "tf.random.set_seed(31)"
      ]
    },
    {
      "cell_type": "code",
      "execution_count": 104,
      "id": "0UEnoNDabMeY",
      "metadata": {
        "id": "0UEnoNDabMeY"
      },
      "outputs": [],
      "source": [
        "X = np.expand_dims(x_train, axis=-1)\n",
        "\n",
        "model = Sequential()\n",
        "\n",
        "model.add(layers.Embedding(len(X), 100, input_length=max_size))\n",
        "\n",
        "model.add(Convolution1D(filters=32, kernel_size=8, activation='relu'))\n",
        "\n",
        "model.add(layers.Flatten())    \n",
        "\n",
        "model.add(layers.Dense(128, activation=activations.relu))\n",
        "\n",
        "model.add(Dropout(0.5))\n",
        "\n",
        "model.add(layers.Dense(32, activation=activations.relu, kernel_regularizer=l2()))\n",
        "\n",
        "model.add(Dropout(0.5))\n",
        "\n",
        "model.add(layers.Dense(units=3, activation='sigmoid'))\n",
        "\n",
        "model.compile(loss= 'categorical_crossentropy', optimizer='adam', metrics=['AUC', 'accuracy'])"
      ]
    },
    {
      "cell_type": "code",
      "execution_count": 105,
      "id": "uQWdUcV7b_yi",
      "metadata": {
        "colab": {
          "base_uri": "https://localhost:8080/"
        },
        "id": "uQWdUcV7b_yi",
        "outputId": "0346e9b9-a3e8-464d-f336-c4ac1b5df7bb"
      },
      "outputs": [
        {
          "name": "stdout",
          "output_type": "stream",
          "text": [
            "Epoch 1/10\n",
            "1927/1927 - 76s - loss: 1.1874 - auc: 0.5631 - accuracy: 0.3757 - val_loss: 1.0092 - val_auc: 0.8102 - val_accuracy: 0.6025 - 76s/epoch - 40ms/step\n",
            "Epoch 2/10\n",
            "1927/1927 - 75s - loss: 0.4278 - auc: 0.9452 - accuracy: 0.8723 - val_loss: 0.2817 - val_auc: 0.9824 - val_accuracy: 0.9089 - 75s/epoch - 39ms/step\n",
            "Epoch 3/10\n",
            "1927/1927 - 75s - loss: 0.2350 - auc: 0.9714 - accuracy: 0.9296 - val_loss: 0.2708 - val_auc: 0.9828 - val_accuracy: 0.9095 - 75s/epoch - 39ms/step\n",
            "Epoch 4/10\n",
            "1927/1927 - 75s - loss: 0.1674 - auc: 0.9805 - accuracy: 0.9526 - val_loss: 0.2915 - val_auc: 0.9825 - val_accuracy: 0.8990 - 75s/epoch - 39ms/step\n",
            "Epoch 5/10\n",
            "1927/1927 - 75s - loss: 0.1380 - auc: 0.9851 - accuracy: 0.9652 - val_loss: 0.3209 - val_auc: 0.9827 - val_accuracy: 0.9072 - 75s/epoch - 39ms/step\n",
            "Epoch 6/10\n",
            "1927/1927 - 75s - loss: 0.1080 - auc: 0.9886 - accuracy: 0.9744 - val_loss: 0.3922 - val_auc: 0.9803 - val_accuracy: 0.8990 - 75s/epoch - 39ms/step\n",
            "Epoch 7/10\n",
            "1927/1927 - 75s - loss: 0.0942 - auc: 0.9931 - accuracy: 0.9794 - val_loss: 0.4185 - val_auc: 0.9796 - val_accuracy: 0.9031 - 75s/epoch - 39ms/step\n",
            "Epoch 8/10\n",
            "1927/1927 - 75s - loss: 0.1730 - auc: 0.9844 - accuracy: 0.9765 - val_loss: 0.4106 - val_auc: 0.9795 - val_accuracy: 0.9060 - 75s/epoch - 39ms/step\n",
            "Epoch 9/10\n",
            "1927/1927 - 74s - loss: 0.0800 - auc: 0.9894 - accuracy: 0.9851 - val_loss: 0.3806 - val_auc: 0.9807 - val_accuracy: 0.9060 - 74s/epoch - 39ms/step\n",
            "Epoch 10/10\n",
            "1927/1927 - 75s - loss: 0.0695 - auc: 0.9931 - accuracy: 0.9862 - val_loss: 0.4143 - val_auc: 0.9804 - val_accuracy: 0.9095 - 75s/epoch - 39ms/step\n"
          ]
        }
      ],
      "source": [
        "history = model.fit(x_train, to_categorical(y_train, 3), batch_size = 8, epochs = 10, verbose = 2, shuffle = True, validation_split=0.1);"
      ]
    },
    {
      "cell_type": "code",
      "execution_count": 107,
      "id": "M34cj3y6c-lc",
      "metadata": {
        "colab": {
          "base_uri": "https://localhost:8080/"
        },
        "id": "M34cj3y6c-lc",
        "outputId": "0d41e349-2335-4dff-c4be-c2e1e704b4a6"
      },
      "outputs": [
        {
          "name": "stdout",
          "output_type": "stream",
          "text": [
            "dict_keys(['loss', 'auc', 'accuracy', 'val_loss', 'val_auc', 'val_accuracy'])\n"
          ]
        }
      ],
      "source": [
        "####################################\n",
        "# PLOT :                           #\n",
        "# train loss vs val loss           #\n",
        "# train auc vs val auc             #\n",
        "# train recall vs val recall       #\n",
        "# train precision vs val precision #\n",
        "# train accuracy vs val accuracy   #\n",
        "####################################\n",
        "\n",
        "print(history.history.keys())\n",
        "train_loss = history.history['loss']\n",
        "val_loss = history.history['val_loss']\n",
        "\n",
        "train_auc = history.history['auc']\n",
        "val_auc = history.history['val_auc']\n",
        "\n",
        "train_acc = history.history['accuracy']\n",
        "val_acc = history.history['val_accuracy']"
      ]
    },
    {
      "cell_type": "code",
      "execution_count": 108,
      "id": "4SeVWf3AdBEg",
      "metadata": {
        "colab": {
          "base_uri": "https://localhost:8080/",
          "height": 295
        },
        "id": "4SeVWf3AdBEg",
        "outputId": "34c30b5e-6b62-46ae-93ec-5177e6cf5ebc"
      },
      "outputs": [
        {
          "data": {
            "image/png": "[encoded data removed]",
            "text/plain": [
              "<Figure size 432x288 with 1 Axes>"
            ]
          },
          "metadata": {
            "needs_background": "light"
          },
          "output_type": "display_data"
        }
      ],
      "source": [
        "# Plot and label the training and validation loss values\n",
        "plt.plot(list(range(0,10)), train_loss, label='Training Loss')\n",
        "plt.plot(list(range(0,10)), val_loss, label='Validation Loss')\n",
        " \n",
        "# Add in a title and axes labels\n",
        "plt.title('Training and Validation Loss')\n",
        "plt.xlabel('Epochs')\n",
        "plt.ylabel('Loss')\n",
        "\n",
        "# Display the plot\n",
        "plt.show()"
      ]
    },
    {
      "cell_type": "code",
      "execution_count": 109,
      "id": "Az5AW8yndDaD",
      "metadata": {
        "colab": {
          "base_uri": "https://localhost:8080/",
          "height": 295
        },
        "id": "Az5AW8yndDaD",
        "outputId": "9b8d3a43-fb10-4629-974c-70c463e11333"
      },
      "outputs": [
        {
          "data": {
            "image/png": "[encoded data removed]",
            "text/plain": [
              "<Figure size 432x288 with 1 Axes>"
            ]
          },
          "metadata": {
            "needs_background": "light"
          },
          "output_type": "display_data"
        }
      ],
      "source": [
        "# Plot and label the training and validation AUC values\n",
        "plt.plot(list(range(0,10)), train_auc, label='Training AUC')\n",
        "plt.plot(list(range(0,10)), val_auc, label='Validation AUC')\n",
        " \n",
        "# Add in a title and axes labels\n",
        "plt.title('Training and Validation AUC')\n",
        "plt.xlabel('Epochs')\n",
        "plt.ylabel('AUC')\n",
        " \n",
        "# Display the plot\n",
        "plt.show()"
      ]
    },
    {
      "cell_type": "code",
      "execution_count": 110,
      "id": "ZFD2-F0edL7U",
      "metadata": {
        "colab": {
          "base_uri": "https://localhost:8080/",
          "height": 295
        },
        "id": "ZFD2-F0edL7U",
        "outputId": "13df9297-bf65-44f8-c8b7-734294f3058b"
      },
      "outputs": [
        {
          "data": {
            "image/png": "[encoded data removed]",
            "text/plain": [
              "<Figure size 432x288 with 1 Axes>"
            ]
          },
          "metadata": {
            "needs_background": "light"
          },
          "output_type": "display_data"
        }
      ],
      "source": [
        "# Plot and label the training and validation accuracy values\n",
        "plt.plot(list(range(0,10)), train_acc, label='Training Accuracy')\n",
        "plt.plot(list(range(0,10)), val_acc, label='Validation Accuracy')\n",
        " \n",
        "# Add in a title and axes labels\n",
        "plt.title('Training and Validation Accuracy')\n",
        "plt.xlabel('Epochs')\n",
        "plt.ylabel('Accuracy')\n",
        "\n",
        "# Display the plot\n",
        "plt.show()"
      ]
    },
    {
      "cell_type": "markdown",
      "id": "iQTXqkx1deLV",
      "metadata": {
        "id": "iQTXqkx1deLV"
      },
      "source": []
    }
  ],
  "metadata": {
    "accelerator": "GPU",
    "colab": {
      "machine_shape": "hm",
      "provenance": []
    },
    "gpuClass": "premium",
    "kernelspec": {
      "display_name": "Python 3.9.6 64-bit",
      "language": "python",
      "name": "python3"
    },
    "language_info": {
      "codemirror_mode": {
        "name": "ipython",
        "version": 3
      },
      "file_extension": ".py",
      "mimetype": "text/x-python",
      "name": "python",
      "nbconvert_exporter": "python",
      "pygments_lexer": "ipython3",
      "version": "3.9.6"
    },
    "vscode": {
      "interpreter": {
        "hash": "31f2aee4e71d21fbe5cf8b01ff0e069b9275f58929596ceb00d14d90e3e16cd6"
      }
    }
  },
  "nbformat": 4,
  "nbformat_minor": 5
}
