{
  "cells": [
    {
      "cell_type": "markdown",
      "id": "r-_SyjThcoeu",
      "metadata": {
        "id": "r-_SyjThcoeu"
      },
      "source": [
        "# Cyberbullying Text Classification\n",
        "CS6120 Group 10: Pushyanth Damarapati, Sindhya Balasubramanian, Eileen Chang, Priyanka Padinam\n",
        "\n",
        "### Description\n",
        "The rise of social media and the recent couple of years of covid-19 lockdown has led to a concerning increase in cyberbullying cases. In 2020, UNICEF even issued a warning in response to the increased cyberbullying compounded by social distancing and increased screen-time. Those who bully others on the internet have the convenience of being able to hide anonymously behind a screen, but the people who are bullied are likely to develop mental-health issues that persist even after the bullying has ceased. Due to social media’s ability to spread information quickly and anonymously, a single person can easily end up being targeted by a large number of people of various demographics. We aim to create a model that will flag harmful tweets and, therefore, protect targets of cyberbullying.\n",
        "\n",
        "### Dataset\n",
        "We will be using a kaggle dataset, Cyberbullying Classification, consisting of more than 47,000 tweets labeled according to 6 classes of cyberbullying: Age, Ethnicity, Gender, Religion, Other type of cyberbullying, and Not cyberbullying. Each row of the dataset will have a tweet and its class of cyberbullying. The dataset is meant to be used to create a multi-classification model to predict cyberbullying type, create a binary classification model to flag potentially harmful tweets, and examine words and patterns associated with each type of cyberbullying."
      ]
    },
    {
      "cell_type": "markdown",
      "id": "1rcwM94Gcoe9",
      "metadata": {
        "id": "1rcwM94Gcoe9"
      },
      "source": [
        "# Importing Dataset and Libraries"
      ]
    },
    {
      "cell_type": "code",
      "execution_count": 1,
      "id": "UHkD1hmicoe-",
      "metadata": {
        "colab": {
          "base_uri": "https://localhost:8080/"
        },
        "id": "UHkD1hmicoe-",
        "outputId": "47ef1f7d-9cd1-451e-afb3-df3aadb07a4e"
      },
      "outputs": [
        {
          "output_type": "stream",
          "name": "stdout",
          "text": [
            "Looking in indexes: https://pypi.org/simple, https://us-python.pkg.dev/colab-wheels/public/simple/\n",
            "Collecting contractions\n",
            "  Downloading contractions-0.1.73-py2.py3-none-any.whl (8.7 kB)\n",
            "Collecting textsearch>=0.0.21\n",
            "  Downloading textsearch-0.0.24-py2.py3-none-any.whl (7.6 kB)\n",
            "Collecting pyahocorasick\n",
            "  Downloading pyahocorasick-1.4.4-cp38-cp38-manylinux_2_17_x86_64.manylinux2014_x86_64.whl (110 kB)\n",
            "\u001b[K     |████████████████████████████████| 110 kB 15.5 MB/s \n",
            "\u001b[?25hCollecting anyascii\n",
            "  Downloading anyascii-0.3.1-py3-none-any.whl (287 kB)\n",
            "\u001b[K     |████████████████████████████████| 287 kB 88.8 MB/s \n",
            "\u001b[?25hInstalling collected packages: pyahocorasick, anyascii, textsearch, contractions\n",
            "Successfully installed anyascii-0.3.1 contractions-0.1.73 pyahocorasick-1.4.4 textsearch-0.0.24\n",
            "Looking in indexes: https://pypi.org/simple, https://us-python.pkg.dev/colab-wheels/public/simple/\n",
            "Collecting autocorrect\n",
            "  Downloading autocorrect-2.6.1.tar.gz (622 kB)\n",
            "\u001b[K     |████████████████████████████████| 622 kB 12.0 MB/s \n",
            "\u001b[?25hBuilding wheels for collected packages: autocorrect\n",
            "  Building wheel for autocorrect (setup.py) ... \u001b[?25l\u001b[?25hdone\n",
            "  Created wheel for autocorrect: filename=autocorrect-2.6.1-py3-none-any.whl size=622381 sha256=93befd8858e0e4a0103e6bb699241a3589e977d84d0c9a86a77e0278e3ddcc9a\n",
            "  Stored in directory: /root/.cache/pip/wheels/72/b8/3b/a90246d13090e85394a8a44b78c8abf577c0766f29d6543c75\n",
            "Successfully built autocorrect\n",
            "Installing collected packages: autocorrect\n",
            "Successfully installed autocorrect-2.6.1\n"
          ]
        }
      ],
      "source": [
        "!pip install contractions\n",
        "# !pip install nltk\n",
        "!pip install autocorrect \n",
        "# !pip install --upgrade matplotlib"
      ]
    },
    {
      "cell_type": "code",
      "execution_count": 2,
      "id": "CzEY-dujcofA",
      "metadata": {
        "colab": {
          "base_uri": "https://localhost:8080/"
        },
        "id": "CzEY-dujcofA",
        "outputId": "5fccb530-2e5c-4b03-c5cc-1c51c851f42e"
      },
      "outputs": [
        {
          "output_type": "stream",
          "name": "stderr",
          "text": [
            "[nltk_data] Downloading package wordnet to /root/nltk_data...\n",
            "[nltk_data] Downloading package punkt to /root/nltk_data...\n",
            "[nltk_data]   Unzipping tokenizers/punkt.zip.\n",
            "[nltk_data] Downloading package stopwords to /root/nltk_data...\n",
            "[nltk_data]   Unzipping corpora/stopwords.zip.\n"
          ]
        }
      ],
      "source": [
        "import string \n",
        "import nltk \n",
        "import re # regex\n",
        "from string import punctuation \n",
        "from nltk.corpus import stopwords \n",
        "from nltk.stem import WordNetLemmatizer \n",
        "# from autocorrect import Speller # correct spelling\n",
        "nltk.download('wordnet')\n",
        "nltk.download('punkt')\n",
        "nltk.download('stopwords')\n",
        "\n",
        "#Libraries \n",
        "import matplotlib.pyplot as plt\n",
        "import seaborn as sns\n",
        "\n",
        "\n",
        "#Data preprocessing\n",
        "from sklearn import preprocessing\n",
        "from sklearn.model_selection import train_test_split\n",
        "# from imblearn.over_sampling import RandomOverSampler\n",
        "\n",
        "# #Naive Bayes\n",
        "from sklearn.feature_extraction.text import CountVectorizer\n",
        "from sklearn.feature_extraction.text import TfidfTransformer\n",
        "from sklearn.feature_extraction.text import TfidfVectorizer\n",
        "from sklearn.naive_bayes import MultinomialNB\n",
        "\n",
        "import os"
      ]
    },
    {
      "cell_type": "code",
      "execution_count": 3,
      "id": "cG9DlMZQcofB",
      "metadata": {
        "colab": {
          "base_uri": "https://localhost:8080/"
        },
        "id": "cG9DlMZQcofB",
        "outputId": "f5ec00e3-b5f8-45e4-c5c5-0c5587cc8455"
      },
      "outputs": [
        {
          "output_type": "execute_result",
          "data": {
            "text/plain": [
              "religion               7998\n",
              "age                    7992\n",
              "gender                 7973\n",
              "ethnicity              7961\n",
              "not_cyberbullying      7945\n",
              "other_cyberbullying    7823\n",
              "Name: cyberbullying_type, dtype: int64"
            ]
          },
          "metadata": {},
          "execution_count": 3
        }
      ],
      "source": [
        "import numpy as np\n",
        "import pandas as pd\n",
        "\n",
        "df = pd.read_csv('cyberbullying_tweets.csv')\n",
        "df['cyberbullying_type'].value_counts()"
      ]
    },
    {
      "cell_type": "markdown",
      "id": "oNyDoZRUcofB",
      "metadata": {
        "id": "oNyDoZRUcofB"
      },
      "source": [
        "**There is not much imbalance between different cyberbulling type. other_cyberbulling will be removed since it may cause a confusion for the models with other cyberbullying class.**"
      ]
    },
    {
      "cell_type": "code",
      "execution_count": 4,
      "id": "OVh5OXeZcofC",
      "metadata": {
        "colab": {
          "base_uri": "https://localhost:8080/"
        },
        "id": "OVh5OXeZcofC",
        "outputId": "af39f719-affc-414c-d9fa-625de530787a"
      },
      "outputs": [
        {
          "output_type": "execute_result",
          "data": {
            "text/plain": [
              "religion             7998\n",
              "age                  7992\n",
              "gender               7973\n",
              "ethnicity            7961\n",
              "not_cyberbullying    7945\n",
              "Name: cyberbullying_type, dtype: int64"
            ]
          },
          "metadata": {},
          "execution_count": 4
        }
      ],
      "source": [
        "df.drop(df[df['cyberbullying_type'] == 'other_cyberbullying'].index, inplace = True)\n",
        "df['cyberbullying_type'].value_counts()"
      ]
    },
    {
      "cell_type": "markdown",
      "id": "lC7eld_xcofC",
      "metadata": {
        "id": "lC7eld_xcofC"
      },
      "source": [
        "# 1. Data Preprocessing"
      ]
    },
    {
      "cell_type": "code",
      "execution_count": 5,
      "id": "mDVMe-EicofC",
      "metadata": {
        "id": "mDVMe-EicofC"
      },
      "outputs": [],
      "source": [
        "# Renaming Categories\n",
        "df = df.rename(columns={'tweet_text': 'text', 'cyberbullying_type': 'sentiment'})"
      ]
    },
    {
      "cell_type": "code",
      "execution_count": 6,
      "id": "zik4RA5IcofD",
      "metadata": {
        "colab": {
          "base_uri": "https://localhost:8080/",
          "height": 363
        },
        "id": "zik4RA5IcofD",
        "outputId": "ea6c9fd3-1df6-4975-c24b-ff8ccd95bacc"
      },
      "outputs": [
        {
          "output_type": "execute_result",
          "data": {
            "text/plain": [
              "                                                    text          sentiment\n",
              "42145  Family? And I haven't had a Guinness in years....          ethnicity\n",
              "46034  Somalis should only date/marry other Somalis, ...          ethnicity\n",
              "38540  they gonna bully this nigga at school and call...                age\n",
              "17940  @G_Abdulazeez Stupid comment. ISIS is sponsore...           religion\n",
              "44842  @AntiDARKSKINNED: Don't start with that I'm br...          ethnicity\n",
              "18423  @loveconcursall This is an ISIS humanitarian c...           religion\n",
              "14039  When do we get serious about impeaching Trump?...             gender\n",
              "34681  Was almost uncomfortable viewing man, like a s...                age\n",
              "2240                                 Colin is back! #MKR  not_cyberbullying\n",
              "20305  @buttercupashby @MaDaSaHaTtEr_17 Mohammed ran ...           religion"
            ],
            "text/html": [
              "\n",
              "  <div id=\"df-47210535-fd07-4533-b13b-dc9205dddbef\">\n",
              "    <div class=\"colab-df-container\">\n",
              "      <div>\n",
              "<style scoped>\n",
              "    .dataframe tbody tr th:only-of-type {\n",
              "        vertical-align: middle;\n",
              "    }\n",
              "\n",
              "    .dataframe tbody tr th {\n",
              "        vertical-align: top;\n",
              "    }\n",
              "\n",
              "    .dataframe thead th {\n",
              "        text-align: right;\n",
              "    }\n",
              "</style>\n",
              "<table border=\"1\" class=\"dataframe\">\n",
              "  <thead>\n",
              "    <tr style=\"text-align: right;\">\n",
              "      <th></th>\n",
              "      <th>text</th>\n",
              "      <th>sentiment</th>\n",
              "    </tr>\n",
              "  </thead>\n",
              "  <tbody>\n",
              "    <tr>\n",
              "      <th>42145</th>\n",
              "      <td>Family? And I haven't had a Guinness in years....</td>\n",
              "      <td>ethnicity</td>\n",
              "    </tr>\n",
              "    <tr>\n",
              "      <th>46034</th>\n",
              "      <td>Somalis should only date/marry other Somalis, ...</td>\n",
              "      <td>ethnicity</td>\n",
              "    </tr>\n",
              "    <tr>\n",
              "      <th>38540</th>\n",
              "      <td>they gonna bully this nigga at school and call...</td>\n",
              "      <td>age</td>\n",
              "    </tr>\n",
              "    <tr>\n",
              "      <th>17940</th>\n",
              "      <td>@G_Abdulazeez Stupid comment. ISIS is sponsore...</td>\n",
              "      <td>religion</td>\n",
              "    </tr>\n",
              "    <tr>\n",
              "      <th>44842</th>\n",
              "      <td>@AntiDARKSKINNED: Don't start with that I'm br...</td>\n",
              "      <td>ethnicity</td>\n",
              "    </tr>\n",
              "    <tr>\n",
              "      <th>18423</th>\n",
              "      <td>@loveconcursall This is an ISIS humanitarian c...</td>\n",
              "      <td>religion</td>\n",
              "    </tr>\n",
              "    <tr>\n",
              "      <th>14039</th>\n",
              "      <td>When do we get serious about impeaching Trump?...</td>\n",
              "      <td>gender</td>\n",
              "    </tr>\n",
              "    <tr>\n",
              "      <th>34681</th>\n",
              "      <td>Was almost uncomfortable viewing man, like a s...</td>\n",
              "      <td>age</td>\n",
              "    </tr>\n",
              "    <tr>\n",
              "      <th>2240</th>\n",
              "      <td>Colin is back! #MKR</td>\n",
              "      <td>not_cyberbullying</td>\n",
              "    </tr>\n",
              "    <tr>\n",
              "      <th>20305</th>\n",
              "      <td>@buttercupashby @MaDaSaHaTtEr_17 Mohammed ran ...</td>\n",
              "      <td>religion</td>\n",
              "    </tr>\n",
              "  </tbody>\n",
              "</table>\n",
              "</div>\n",
              "      <button class=\"colab-df-convert\" onclick=\"convertToInteractive('df-47210535-fd07-4533-b13b-dc9205dddbef')\"\n",
              "              title=\"Convert this dataframe to an interactive table.\"\n",
              "              style=\"display:none;\">\n",
              "        \n",
              "  <svg xmlns=\"http://www.w3.org/2000/svg\" height=\"24px\"viewBox=\"0 0 24 24\"\n",
              "       width=\"24px\">\n",
              "    <path d=\"M0 0h24v24H0V0z\" fill=\"none\"/>\n",
              "    <path d=\"M18.56 5.44l.94 2.06.94-2.06 2.06-.94-2.06-.94-.94-2.06-.94 2.06-2.06.94zm-11 1L8.5 8.5l.94-2.06 2.06-.94-2.06-.94L8.5 2.5l-.94 2.06-2.06.94zm10 10l.94 2.06.94-2.06 2.06-.94-2.06-.94-.94-2.06-.94 2.06-2.06.94z\"/><path d=\"M17.41 7.96l-1.37-1.37c-.4-.4-.92-.59-1.43-.59-.52 0-1.04.2-1.43.59L10.3 9.45l-7.72 7.72c-.78.78-.78 2.05 0 2.83L4 21.41c.39.39.9.59 1.41.59.51 0 1.02-.2 1.41-.59l7.78-7.78 2.81-2.81c.8-.78.8-2.07 0-2.86zM5.41 20L4 18.59l7.72-7.72 1.47 1.35L5.41 20z\"/>\n",
              "  </svg>\n",
              "      </button>\n",
              "      \n",
              "  <style>\n",
              "    .colab-df-container {\n",
              "      display:flex;\n",
              "      flex-wrap:wrap;\n",
              "      gap: 12px;\n",
              "    }\n",
              "\n",
              "    .colab-df-convert {\n",
              "      background-color: #E8F0FE;\n",
              "      border: none;\n",
              "      border-radius: 50%;\n",
              "      cursor: pointer;\n",
              "      display: none;\n",
              "      fill: #1967D2;\n",
              "      height: 32px;\n",
              "      padding: 0 0 0 0;\n",
              "      width: 32px;\n",
              "    }\n",
              "\n",
              "    .colab-df-convert:hover {\n",
              "      background-color: #E2EBFA;\n",
              "      box-shadow: 0px 1px 2px rgba(60, 64, 67, 0.3), 0px 1px 3px 1px rgba(60, 64, 67, 0.15);\n",
              "      fill: #174EA6;\n",
              "    }\n",
              "\n",
              "    [theme=dark] .colab-df-convert {\n",
              "      background-color: #3B4455;\n",
              "      fill: #D2E3FC;\n",
              "    }\n",
              "\n",
              "    [theme=dark] .colab-df-convert:hover {\n",
              "      background-color: #434B5C;\n",
              "      box-shadow: 0px 1px 3px 1px rgba(0, 0, 0, 0.15);\n",
              "      filter: drop-shadow(0px 1px 2px rgba(0, 0, 0, 0.3));\n",
              "      fill: #FFFFFF;\n",
              "    }\n",
              "  </style>\n",
              "\n",
              "      <script>\n",
              "        const buttonEl =\n",
              "          document.querySelector('#df-47210535-fd07-4533-b13b-dc9205dddbef button.colab-df-convert');\n",
              "        buttonEl.style.display =\n",
              "          google.colab.kernel.accessAllowed ? 'block' : 'none';\n",
              "\n",
              "        async function convertToInteractive(key) {\n",
              "          const element = document.querySelector('#df-47210535-fd07-4533-b13b-dc9205dddbef');\n",
              "          const dataTable =\n",
              "            await google.colab.kernel.invokeFunction('convertToInteractive',\n",
              "                                                     [key], {});\n",
              "          if (!dataTable) return;\n",
              "\n",
              "          const docLinkHtml = 'Like what you see? Visit the ' +\n",
              "            '<a target=\"_blank\" href=https://colab.research.google.com/notebooks/data_table.ipynb>data table notebook</a>'\n",
              "            + ' to learn more about interactive tables.';\n",
              "          element.innerHTML = '';\n",
              "          dataTable['output_type'] = 'display_data';\n",
              "          await google.colab.output.renderOutput(dataTable, element);\n",
              "          const docLink = document.createElement('div');\n",
              "          docLink.innerHTML = docLinkHtml;\n",
              "          element.appendChild(docLink);\n",
              "        }\n",
              "      </script>\n",
              "    </div>\n",
              "  </div>\n",
              "  "
            ]
          },
          "metadata": {},
          "execution_count": 6
        }
      ],
      "source": [
        "# Checking 10 samples\n",
        "df.sample(10)"
      ]
    },
    {
      "cell_type": "code",
      "source": [
        "df = df.dropna()\n",
        "df.head()"
      ],
      "metadata": {
        "colab": {
          "base_uri": "https://localhost:8080/",
          "height": 206
        },
        "id": "yuly-OUP5oAo",
        "outputId": "885520ab-f4be-4cc3-95bd-b6ff17d577d2"
      },
      "id": "yuly-OUP5oAo",
      "execution_count": 7,
      "outputs": [
        {
          "output_type": "execute_result",
          "data": {
            "text/plain": [
              "                                                text          sentiment\n",
              "0  In other words #katandandre, your food was cra...  not_cyberbullying\n",
              "1  Why is #aussietv so white? #MKR #theblock #ImA...  not_cyberbullying\n",
              "2  @XochitlSuckkks a classy whore? Or more red ve...  not_cyberbullying\n",
              "3  @Jason_Gio meh. :P  thanks for the heads up, b...  not_cyberbullying\n",
              "4  @RudhoeEnglish This is an ISIS account pretend...  not_cyberbullying"
            ],
            "text/html": [
              "\n",
              "  <div id=\"df-8c42b4f8-9e57-4964-8e1f-a6f016f567e2\">\n",
              "    <div class=\"colab-df-container\">\n",
              "      <div>\n",
              "<style scoped>\n",
              "    .dataframe tbody tr th:only-of-type {\n",
              "        vertical-align: middle;\n",
              "    }\n",
              "\n",
              "    .dataframe tbody tr th {\n",
              "        vertical-align: top;\n",
              "    }\n",
              "\n",
              "    .dataframe thead th {\n",
              "        text-align: right;\n",
              "    }\n",
              "</style>\n",
              "<table border=\"1\" class=\"dataframe\">\n",
              "  <thead>\n",
              "    <tr style=\"text-align: right;\">\n",
              "      <th></th>\n",
              "      <th>text</th>\n",
              "      <th>sentiment</th>\n",
              "    </tr>\n",
              "  </thead>\n",
              "  <tbody>\n",
              "    <tr>\n",
              "      <th>0</th>\n",
              "      <td>In other words #katandandre, your food was cra...</td>\n",
              "      <td>not_cyberbullying</td>\n",
              "    </tr>\n",
              "    <tr>\n",
              "      <th>1</th>\n",
              "      <td>Why is #aussietv so white? #MKR #theblock #ImA...</td>\n",
              "      <td>not_cyberbullying</td>\n",
              "    </tr>\n",
              "    <tr>\n",
              "      <th>2</th>\n",
              "      <td>@XochitlSuckkks a classy whore? Or more red ve...</td>\n",
              "      <td>not_cyberbullying</td>\n",
              "    </tr>\n",
              "    <tr>\n",
              "      <th>3</th>\n",
              "      <td>@Jason_Gio meh. :P  thanks for the heads up, b...</td>\n",
              "      <td>not_cyberbullying</td>\n",
              "    </tr>\n",
              "    <tr>\n",
              "      <th>4</th>\n",
              "      <td>@RudhoeEnglish This is an ISIS account pretend...</td>\n",
              "      <td>not_cyberbullying</td>\n",
              "    </tr>\n",
              "  </tbody>\n",
              "</table>\n",
              "</div>\n",
              "      <button class=\"colab-df-convert\" onclick=\"convertToInteractive('df-8c42b4f8-9e57-4964-8e1f-a6f016f567e2')\"\n",
              "              title=\"Convert this dataframe to an interactive table.\"\n",
              "              style=\"display:none;\">\n",
              "        \n",
              "  <svg xmlns=\"http://www.w3.org/2000/svg\" height=\"24px\"viewBox=\"0 0 24 24\"\n",
              "       width=\"24px\">\n",
              "    <path d=\"M0 0h24v24H0V0z\" fill=\"none\"/>\n",
              "    <path d=\"M18.56 5.44l.94 2.06.94-2.06 2.06-.94-2.06-.94-.94-2.06-.94 2.06-2.06.94zm-11 1L8.5 8.5l.94-2.06 2.06-.94-2.06-.94L8.5 2.5l-.94 2.06-2.06.94zm10 10l.94 2.06.94-2.06 2.06-.94-2.06-.94-.94-2.06-.94 2.06-2.06.94z\"/><path d=\"M17.41 7.96l-1.37-1.37c-.4-.4-.92-.59-1.43-.59-.52 0-1.04.2-1.43.59L10.3 9.45l-7.72 7.72c-.78.78-.78 2.05 0 2.83L4 21.41c.39.39.9.59 1.41.59.51 0 1.02-.2 1.41-.59l7.78-7.78 2.81-2.81c.8-.78.8-2.07 0-2.86zM5.41 20L4 18.59l7.72-7.72 1.47 1.35L5.41 20z\"/>\n",
              "  </svg>\n",
              "      </button>\n",
              "      \n",
              "  <style>\n",
              "    .colab-df-container {\n",
              "      display:flex;\n",
              "      flex-wrap:wrap;\n",
              "      gap: 12px;\n",
              "    }\n",
              "\n",
              "    .colab-df-convert {\n",
              "      background-color: #E8F0FE;\n",
              "      border: none;\n",
              "      border-radius: 50%;\n",
              "      cursor: pointer;\n",
              "      display: none;\n",
              "      fill: #1967D2;\n",
              "      height: 32px;\n",
              "      padding: 0 0 0 0;\n",
              "      width: 32px;\n",
              "    }\n",
              "\n",
              "    .colab-df-convert:hover {\n",
              "      background-color: #E2EBFA;\n",
              "      box-shadow: 0px 1px 2px rgba(60, 64, 67, 0.3), 0px 1px 3px 1px rgba(60, 64, 67, 0.15);\n",
              "      fill: #174EA6;\n",
              "    }\n",
              "\n",
              "    [theme=dark] .colab-df-convert {\n",
              "      background-color: #3B4455;\n",
              "      fill: #D2E3FC;\n",
              "    }\n",
              "\n",
              "    [theme=dark] .colab-df-convert:hover {\n",
              "      background-color: #434B5C;\n",
              "      box-shadow: 0px 1px 3px 1px rgba(0, 0, 0, 0.15);\n",
              "      filter: drop-shadow(0px 1px 2px rgba(0, 0, 0, 0.3));\n",
              "      fill: #FFFFFF;\n",
              "    }\n",
              "  </style>\n",
              "\n",
              "      <script>\n",
              "        const buttonEl =\n",
              "          document.querySelector('#df-8c42b4f8-9e57-4964-8e1f-a6f016f567e2 button.colab-df-convert');\n",
              "        buttonEl.style.display =\n",
              "          google.colab.kernel.accessAllowed ? 'block' : 'none';\n",
              "\n",
              "        async function convertToInteractive(key) {\n",
              "          const element = document.querySelector('#df-8c42b4f8-9e57-4964-8e1f-a6f016f567e2');\n",
              "          const dataTable =\n",
              "            await google.colab.kernel.invokeFunction('convertToInteractive',\n",
              "                                                     [key], {});\n",
              "          if (!dataTable) return;\n",
              "\n",
              "          const docLinkHtml = 'Like what you see? Visit the ' +\n",
              "            '<a target=\"_blank\" href=https://colab.research.google.com/notebooks/data_table.ipynb>data table notebook</a>'\n",
              "            + ' to learn more about interactive tables.';\n",
              "          element.innerHTML = '';\n",
              "          dataTable['output_type'] = 'display_data';\n",
              "          await google.colab.output.renderOutput(dataTable, element);\n",
              "          const docLink = document.createElement('div');\n",
              "          docLink.innerHTML = docLinkHtml;\n",
              "          element.appendChild(docLink);\n",
              "        }\n",
              "      </script>\n",
              "    </div>\n",
              "  </div>\n",
              "  "
            ]
          },
          "metadata": {},
          "execution_count": 7
        }
      ]
    },
    {
      "cell_type": "code",
      "source": [
        "df.sentiment.unique()"
      ],
      "metadata": {
        "colab": {
          "base_uri": "https://localhost:8080/"
        },
        "id": "n1m-jj63QCwS",
        "outputId": "8576d730-817b-4046-9350-c65561a463dd"
      },
      "id": "n1m-jj63QCwS",
      "execution_count": 8,
      "outputs": [
        {
          "output_type": "execute_result",
          "data": {
            "text/plain": [
              "array(['not_cyberbullying', 'gender', 'religion', 'age', 'ethnicity'],\n",
              "      dtype=object)"
            ]
          },
          "metadata": {},
          "execution_count": 8
        }
      ]
    },
    {
      "cell_type": "code",
      "execution_count": 9,
      "id": "faP_ii2hig_E",
      "metadata": {
        "id": "faP_ii2hig_E"
      },
      "outputs": [],
      "source": [
        "from sklearn.preprocessing import LabelEncoder\n",
        "LE = LabelEncoder()\n",
        "y = LE.fit_transform(df[\"sentiment\"])"
      ]
    },
    {
      "cell_type": "code",
      "execution_count": 10,
      "id": "Zsw7VXhYpVvL",
      "metadata": {
        "colab": {
          "base_uri": "https://localhost:8080/"
        },
        "id": "Zsw7VXhYpVvL",
        "outputId": "a88877b8-54a7-436b-b135-1a6a5563209d"
      },
      "outputs": [
        {
          "output_type": "stream",
          "name": "stderr",
          "text": [
            "[nltk_data] Downloading package omw-1.4 to /root/nltk_data...\n"
          ]
        }
      ],
      "source": [
        "from nltk.tokenize import word_tokenize\n",
        "from nltk.stem import PorterStemmer\n",
        "nltk.download('omw-1.4')\n",
        "sw_eng = stopwords.words('english')\n",
        "def clean_review(review):\n",
        "    '''\n",
        "    Input:\n",
        "        review: a string containing a review.\n",
        "    Output:\n",
        "        review_cleaned: a processed review. \n",
        "\n",
        "    '''\n",
        "    review_in_lowercase = review.lower()\n",
        "    no_punctuation = review_in_lowercase.translate(review_in_lowercase.maketrans('', '', string.punctuation))\n",
        "    no_url = re.sub(r'https?:\\/\\/.*[\\r\\n]*','', no_punctuation)\n",
        "    review_tokens = word_tokenize(no_url)\n",
        "    no_stopwords_tokens = [token for token in review_tokens if not token in sw_eng]\n",
        "    porter = PorterStemmer()\n",
        "    lemmatizer = WordNetLemmatizer()\n",
        "    review_cleaned = ''\n",
        "    \n",
        "    for each in no_stopwords_tokens:\n",
        "        review_cleaned = review_cleaned + lemmatizer.lemmatize(each) + \" \"\n",
        "    \n",
        "    return review_cleaned\n",
        "\n",
        "df['text'] = df['text'].apply(lambda x : clean_review(x))"
      ]
    },
    {
      "cell_type": "markdown",
      "id": "061ffe06",
      "metadata": {
        "id": "061ffe06"
      },
      "source": [
        "# 2. Modeling"
      ]
    },
    {
      "cell_type": "markdown",
      "id": "bf6b2e86",
      "metadata": {
        "id": "bf6b2e86"
      },
      "source": [
        "<b>Modeling to Predict Multi-ClassText Classification for types of Cyber Bullying </b>"
      ]
    },
    {
      "cell_type": "markdown",
      "source": [
        "Post preprocessing and sampling, the documents will tokenized and converted to an appropriate vector format for model consumption using Bag of Words (countvectorizer)"
      ],
      "metadata": {
        "id": "Zu6tV9kNambm"
      },
      "id": "Zu6tV9kNambm"
    },
    {
      "cell_type": "code",
      "source": [
        "# TFIDF vectorizer on \n",
        "cv = CountVectorizer()\n",
        "\n",
        "# fit and transform on dataset\n",
        "X = cv.fit_transform(df.text).toarray()"
      ],
      "metadata": {
        "id": "y7tyouOwanSi"
      },
      "id": "y7tyouOwanSi",
      "execution_count": 11,
      "outputs": []
    },
    {
      "cell_type": "code",
      "source": [
        "len(df)"
      ],
      "metadata": {
        "colab": {
          "base_uri": "https://localhost:8080/"
        },
        "id": "VKj6-fAf7HRW",
        "outputId": "a5cae1de-0ee6-47dc-eb8d-bd5916942e88"
      },
      "id": "VKj6-fAf7HRW",
      "execution_count": null,
      "outputs": [
        {
          "output_type": "execute_result",
          "data": {
            "text/plain": [
              "39869"
            ]
          },
          "metadata": {},
          "execution_count": 10
        }
      ]
    },
    {
      "cell_type": "code",
      "source": [
        "len(X)"
      ],
      "metadata": {
        "colab": {
          "base_uri": "https://localhost:8080/"
        },
        "id": "2RSGtQ3CauZG",
        "outputId": "1d2be429-177e-4898-8195-a49fbaf8a77d"
      },
      "id": "2RSGtQ3CauZG",
      "execution_count": null,
      "outputs": [
        {
          "output_type": "execute_result",
          "data": {
            "text/plain": [
              "39869"
            ]
          },
          "metadata": {},
          "execution_count": 13
        }
      ]
    },
    {
      "cell_type": "code",
      "source": [
        "len(y)"
      ],
      "metadata": {
        "colab": {
          "base_uri": "https://localhost:8080/"
        },
        "id": "_3IswUPPaw1F",
        "outputId": "3caf6000-e1c1-4703-a977-224f8f174253"
      },
      "id": "_3IswUPPaw1F",
      "execution_count": null,
      "outputs": [
        {
          "output_type": "execute_result",
          "data": {
            "text/plain": [
              "39869"
            ]
          },
          "metadata": {},
          "execution_count": 14
        }
      ]
    },
    {
      "cell_type": "code",
      "source": [
        "# Divide data into training and test (80%, 20% respectively)\n",
        "\n",
        "x_train, x_test, y_train, y_test = train_test_split(X, y, test_size=0.2);"
      ],
      "metadata": {
        "id": "Yl9jM4hCa095"
      },
      "id": "Yl9jM4hCa095",
      "execution_count": 12,
      "outputs": []
    },
    {
      "cell_type": "code",
      "source": [
        "print (\"Training Data Shape \")\n",
        "print(len(x_train))\n",
        "print(len(y_train))\n",
        "print (\"Test Data Shape \")\n",
        "print(len(x_test))\n",
        "print(len(y_test))"
      ],
      "metadata": {
        "colab": {
          "base_uri": "https://localhost:8080/"
        },
        "id": "CPPm5yXOa6lM",
        "outputId": "61d23e7d-89cf-4dc8-8159-46a08940ee30"
      },
      "id": "CPPm5yXOa6lM",
      "execution_count": 13,
      "outputs": [
        {
          "output_type": "stream",
          "name": "stdout",
          "text": [
            "Training Data Shape \n",
            "31895\n",
            "31895\n",
            "Test Data Shape \n",
            "7974\n",
            "7974\n"
          ]
        }
      ]
    },
    {
      "cell_type": "code",
      "source": [
        "# Padding sequences\n",
        "from tensorflow.keras.preprocessing.sequence import pad_sequences\n",
        "\n",
        "max_size = len(max(x_train,key=lambda x_train:len(x_train)))\n",
        "x_train = pad_sequences(x_train, maxlen=max_size, padding='post')"
      ],
      "metadata": {
        "id": "pmTQhB0u4qZS"
      },
      "id": "pmTQhB0u4qZS",
      "execution_count": 14,
      "outputs": []
    },
    {
      "cell_type": "markdown",
      "source": [
        "The CNN and GCN model will be experimented with to accomplish text classification. Below is the CNN implementation with different regularization and dropout layers"
      ],
      "metadata": {
        "id": "Rwyx1jFNbBlG"
      },
      "id": "Rwyx1jFNbBlG"
    },
    {
      "cell_type": "code",
      "source": [
        "import tensorflow as tf\n",
        "from tensorflow.keras import layers\n",
        "from tensorflow.keras import activations\n",
        "from tensorflow.keras.models import Sequential\n",
        "from tensorflow.keras.layers import InputLayer\n",
        "from tensorflow.keras.layers import Dense\n",
        "from tensorflow.keras.layers import Dropout\n",
        "from tensorflow.keras.regularizers import l2\n",
        "from tensorflow.keras.layers import Convolution1D\n",
        "from keras.optimizers import SGD \n",
        "from tensorflow.keras.utils import to_categorical\n",
        "tf.random.set_seed(31)"
      ],
      "metadata": {
        "id": "wXv5b_wibHO9"
      },
      "id": "wXv5b_wibHO9",
      "execution_count": 15,
      "outputs": []
    },
    {
      "cell_type": "code",
      "source": [
        "# X = np.expand_dims(x_train, axis=-1)\n",
        "\n",
        "model = Sequential()\n",
        "\n",
        "model.add(layers.Embedding(len(X), 100, input_length=max_size))\n",
        "\n",
        "model.add(tf.keras.layers.Bidirectional(tf.keras.layers.LSTM(64, activation = 'tanh')))\n",
        "\n",
        "model.add(layers.Flatten())    \n",
        "\n",
        "model.add(layers.Dense(64))\n",
        "\n",
        "model.add(layers.Dropout(0.5))\n",
        "\n",
        "model.add(layers.Dense(units=5, activation='sigmoid'))\n",
        "\n",
        "model.compile(loss= 'categorical_crossentropy', optimizer='adam', metrics=['AUC', 'accuracy'])"
      ],
      "metadata": {
        "id": "0UEnoNDabMeY"
      },
      "id": "0UEnoNDabMeY",
      "execution_count": 16,
      "outputs": []
    },
    {
      "cell_type": "code",
      "source": [
        "history = model.fit(x_train, to_categorical(y_train, 5), batch_size = 64, epochs = 10,  verbose = 1, shuffle = True, validation_split=0.1);"
      ],
      "metadata": {
        "colab": {
          "base_uri": "https://localhost:8080/"
        },
        "id": "uQWdUcV7b_yi",
        "outputId": "a12c65de-cb5e-426d-fbbf-6d774759278c"
      },
      "id": "uQWdUcV7b_yi",
      "execution_count": 17,
      "outputs": [
        {
          "output_type": "stream",
          "name": "stdout",
          "text": [
            "Epoch 1/10\n",
            "449/449 [==============================] - 1862s 4s/step - loss: 1.6114 - auc: 0.4993 - accuracy: 0.1991 - val_loss: 1.6098 - val_auc: 0.5000 - val_accuracy: 0.1994\n",
            "Epoch 2/10\n",
            "449/449 [==============================] - 1848s 4s/step - loss: 1.6106 - auc: 0.4970 - accuracy: 0.1969 - val_loss: 1.6099 - val_auc: 0.4993 - val_accuracy: 0.2009\n",
            "Epoch 3/10\n",
            "449/449 [==============================] - 1855s 4s/step - loss: 1.6103 - auc: 0.4981 - accuracy: 0.2001 - val_loss: 1.6102 - val_auc: 0.4999 - val_accuracy: 0.2009\n",
            "Epoch 4/10\n",
            "449/449 [==============================] - 1857s 4s/step - loss: 1.6103 - auc: 0.4987 - accuracy: 0.1974 - val_loss: 1.6096 - val_auc: 0.4991 - val_accuracy: 0.2009\n",
            "Epoch 5/10\n",
            "449/449 [==============================] - 1866s 4s/step - loss: 1.6102 - auc: 0.4988 - accuracy: 0.1986 - val_loss: 1.6097 - val_auc: 0.5024 - val_accuracy: 0.2031\n",
            "Epoch 6/10\n",
            "449/449 [==============================] - 1858s 4s/step - loss: 1.6101 - auc: 0.4988 - accuracy: 0.1994 - val_loss: 1.6096 - val_auc: 0.5020 - val_accuracy: 0.2031\n",
            "Epoch 7/10\n",
            "449/449 [==============================] - 1872s 4s/step - loss: 1.6099 - auc: 0.5025 - accuracy: 0.2007 - val_loss: 1.6098 - val_auc: 0.5005 - val_accuracy: 0.2009\n",
            "Epoch 8/10\n",
            "449/449 [==============================] - 1873s 4s/step - loss: 1.6100 - auc: 0.4996 - accuracy: 0.1984 - val_loss: 1.6095 - val_auc: 0.4998 - val_accuracy: 0.1991\n",
            "Epoch 9/10\n",
            "449/449 [==============================] - 1864s 4s/step - loss: 1.6099 - auc: 0.5000 - accuracy: 0.2010 - val_loss: 1.6096 - val_auc: 0.5015 - val_accuracy: 0.1991\n",
            "Epoch 10/10\n",
            "449/449 [==============================] - 1863s 4s/step - loss: 1.6100 - auc: 0.4979 - accuracy: 0.1971 - val_loss: 1.6096 - val_auc: 0.5011 - val_accuracy: 0.1991\n"
          ]
        }
      ]
    }
  ],
  "metadata": {
    "colab": {
      "provenance": [],
      "machine_shape": "hm"
    },
    "kernelspec": {
      "display_name": "Python 3 (ipykernel)",
      "language": "python",
      "name": "python3"
    },
    "language_info": {
      "codemirror_mode": {
        "name": "ipython",
        "version": 3
      },
      "file_extension": ".py",
      "mimetype": "text/x-python",
      "name": "python",
      "nbconvert_exporter": "python",
      "pygments_lexer": "ipython3",
      "version": "3.9.12"
    },
    "accelerator": "GPU",
    "gpuClass": "premium"
  },
  "nbformat": 4,
  "nbformat_minor": 5
}