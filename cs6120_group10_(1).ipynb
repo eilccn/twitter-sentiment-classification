{
  "cells": [
    {
      "cell_type": "markdown",
      "metadata": {
        "id": "r-_SyjThcoeu"
      },
      "source": [
        "# Cyberbullying Text Classification\n",
        "CS6120 Group 10: Pushyanth Damarapati, Sindhya Balasubramanian, Eileen Chang, Priyanka Padinam\n",
        "\n",
        "### Description\n",
        "The rise of social media and the recent couple of years of covid-19 lockdown has led to a concerning increase in cyberbullying cases. In 2020, UNICEF even issued a warning in response to the increased cyberbullying compounded by social distancing and increased screen-time. Those who bully others on the internet have the convenience of being able to hide anonymously behind a screen, but the people who are bullied are likely to develop mental-health issues that persist even after the bullying has ceased. Due to social media’s ability to spread information quickly and anonymously, a single person can easily end up being targeted by a large number of people of various demographics. We aim to create a model that will flag harmful tweets and, therefore, protect targets of cyberbullying.\n",
        "\n",
        "### Dataset\n",
        "We will be using a kaggle dataset, Cyberbullying Classification, consisting of more than 47,000 tweets labeled according to 6 classes of cyberbullying: Age, Ethnicity, Gender, Religion, Other type of cyberbullying, and Not cyberbullying. Each row of the dataset will have a tweet and its class of cyberbullying. The dataset is meant to be used to create a multi-classification model to predict cyberbullying type, create a binary classification model to flag potentially harmful tweets, and examine words and patterns associated with each type of cyberbullying."
      ],
      "id": "r-_SyjThcoeu"
    },
    {
      "cell_type": "markdown",
      "metadata": {
        "id": "1rcwM94Gcoe9"
      },
      "source": [
        "# Importing Dataset and Libraries"
      ],
      "id": "1rcwM94Gcoe9"
    },
    {
      "cell_type": "code",
      "execution_count": null,
      "metadata": {
        "id": "UHkD1hmicoe-"
      },
      "outputs": [],
      "source": [
        "!pip install contractions -q\n",
        "!pip install nltk -q\n",
        "!pip install autocorrect -q \n",
        "#!pip install --upgrade matplotlib\n",
        "!pip install matplotlib==3.1.1 -q "
      ],
      "id": "UHkD1hmicoe-"
    },
    {
      "cell_type": "code",
      "execution_count": null,
      "metadata": {
        "colab": {
          "base_uri": "https://localhost:8080/"
        },
        "id": "CzEY-dujcofA",
        "outputId": "1659d6ba-5013-4fa9-c1b1-48baf610d3ff"
      },
      "outputs": [
        {
          "output_type": "stream",
          "name": "stderr",
          "text": [
            "[nltk_data] Downloading package wordnet to /root/nltk_data...\n",
            "[nltk_data]   Package wordnet is already up-to-date!\n",
            "[nltk_data] Downloading package punkt to /root/nltk_data...\n",
            "[nltk_data]   Package punkt is already up-to-date!\n",
            "[nltk_data] Downloading package stopwords to /root/nltk_data...\n",
            "[nltk_data]   Package stopwords is already up-to-date!\n"
          ]
        }
      ],
      "source": [
        "import string \n",
        "import nltk \n",
        "import re # regex\n",
        "from string import punctuation \n",
        "from nltk.corpus import stopwords \n",
        "from nltk.stem import WordNetLemmatizer \n",
        "from nltk.stem import SnowballStemmer \n",
        "from contractions import contractions_dict # to solve contractions\n",
        "from autocorrect import Speller # correct spelling\n",
        "nltk.download('wordnet')\n",
        "nltk.download('punkt')\n",
        "nltk.download('stopwords')\n",
        "\n",
        "#Libraries \n",
        "import matplotlib.pyplot as plt\n",
        "import seaborn as sns\n",
        "\n",
        "\n",
        "#Data preprocessing\n",
        "from sklearn import preprocessing\n",
        "from sklearn.model_selection import train_test_split\n",
        "from imblearn.over_sampling import RandomOverSampler\n",
        "\n",
        "#Naive Bayes\n",
        "from sklearn.feature_extraction.text import CountVectorizer\n",
        "from sklearn.feature_extraction.text import TfidfVectorizer\n",
        "from sklearn.naive_bayes import MultinomialNB"
      ],
      "id": "CzEY-dujcofA"
    },
    {
      "cell_type": "code",
      "execution_count": null,
      "metadata": {
        "colab": {
          "base_uri": "https://localhost:8080/"
        },
        "id": "cG9DlMZQcofB",
        "outputId": "ad8b8d42-adb0-47d5-8c38-2dfbed5af075"
      },
      "outputs": [
        {
          "output_type": "execute_result",
          "data": {
            "text/plain": [
              "religion               7998\n",
              "age                    7992\n",
              "gender                 7973\n",
              "ethnicity              7961\n",
              "not_cyberbullying      7945\n",
              "other_cyberbullying    7823\n",
              "Name: cyberbullying_type, dtype: int64"
            ]
          },
          "metadata": {},
          "execution_count": 3
        }
      ],
      "source": [
        "import numpy as np\n",
        "import pandas as pd\n",
        "\n",
        "df = pd.read_csv('cyberbullying_tweets.csv')\n",
        "df['cyberbullying_type'].value_counts()"
      ],
      "id": "cG9DlMZQcofB"
    },
    {
      "cell_type": "markdown",
      "metadata": {
        "id": "oNyDoZRUcofB"
      },
      "source": [
        "**There is not much imbalance between different cyberbulling type. other_cyberbulling will be removed since it may cause a confusion for the models with other cyberbullying class.**"
      ],
      "id": "oNyDoZRUcofB"
    },
    {
      "cell_type": "code",
      "execution_count": null,
      "metadata": {
        "colab": {
          "base_uri": "https://localhost:8080/"
        },
        "id": "OVh5OXeZcofC",
        "outputId": "d196f4ba-42e2-43b2-add6-6195e281fb09"
      },
      "outputs": [
        {
          "output_type": "execute_result",
          "data": {
            "text/plain": [
              "religion               7998\n",
              "age                    7992\n",
              "gender                 7973\n",
              "ethnicity              7961\n",
              "not_cyberbullying      7945\n",
              "other_cyberbullying    7823\n",
              "Name: cyberbullying_type, dtype: int64"
            ]
          },
          "metadata": {},
          "execution_count": 4
        }
      ],
      "source": [
        "#df.drop(df[df['cyberbullying_type'] == 'other_cyberbullying'].index, inplace = True)\n",
        "df['cyberbullying_type'].value_counts()"
      ],
      "id": "OVh5OXeZcofC"
    },
    {
      "cell_type": "markdown",
      "metadata": {
        "id": "lC7eld_xcofC"
      },
      "source": [
        "# 1. Data Preprocessing"
      ],
      "id": "lC7eld_xcofC"
    },
    {
      "cell_type": "code",
      "execution_count": null,
      "metadata": {
        "id": "mDVMe-EicofC"
      },
      "outputs": [],
      "source": [
        "# Renaming Categories\n",
        "df = df.rename(columns={'tweet_text': 'text', 'cyberbullying_type': 'sentiment'})"
      ],
      "id": "mDVMe-EicofC"
    },
    {
      "cell_type": "code",
      "execution_count": null,
      "metadata": {
        "colab": {
          "base_uri": "https://localhost:8080/",
          "height": 363
        },
        "id": "zik4RA5IcofD",
        "outputId": "90a18a06-2d2e-4481-a12b-cc37e5736ae0"
      },
      "outputs": [
        {
          "output_type": "execute_result",
          "data": {
            "text/plain": [
              "                                                    text            sentiment\n",
              "32469  jokes on the girls who bullied me in high scho...                  age\n",
              "3321   @Charmieos @PendragonTarot *We* can't take any...    not_cyberbullying\n",
              "38067  shawty mad she thought she was gonna be able t...                  age\n",
              "19512  “‘A Christian woman,’ he said contemptuously, ...             religion\n",
              "6651                                    3. Kat and Andre    not_cyberbullying\n",
              "44461  HELL NO DUMB STUPID BITCH TF WRONG WITH BETTER...            ethnicity\n",
              "40817  @princeadmak so fuck you go back to Africa you...            ethnicity\n",
              "26660                     @petfish burn that mother down  other_cyberbullying\n",
              "33679     MY EX BFF/HIGH SCHOOL BULLY WAS THERE. IM DONE                  age\n",
              "13466  can we start cancelling men who call women “fe...               gender"
            ],
            "text/html": [
              "\n",
              "  <div id=\"df-d9e5dc11-0eaa-4e5c-a5a4-771d81c27b87\">\n",
              "    <div class=\"colab-df-container\">\n",
              "      <div>\n",
              "<style scoped>\n",
              "    .dataframe tbody tr th:only-of-type {\n",
              "        vertical-align: middle;\n",
              "    }\n",
              "\n",
              "    .dataframe tbody tr th {\n",
              "        vertical-align: top;\n",
              "    }\n",
              "\n",
              "    .dataframe thead th {\n",
              "        text-align: right;\n",
              "    }\n",
              "</style>\n",
              "<table border=\"1\" class=\"dataframe\">\n",
              "  <thead>\n",
              "    <tr style=\"text-align: right;\">\n",
              "      <th></th>\n",
              "      <th>text</th>\n",
              "      <th>sentiment</th>\n",
              "    </tr>\n",
              "  </thead>\n",
              "  <tbody>\n",
              "    <tr>\n",
              "      <th>32469</th>\n",
              "      <td>jokes on the girls who bullied me in high scho...</td>\n",
              "      <td>age</td>\n",
              "    </tr>\n",
              "    <tr>\n",
              "      <th>3321</th>\n",
              "      <td>@Charmieos @PendragonTarot *We* can't take any...</td>\n",
              "      <td>not_cyberbullying</td>\n",
              "    </tr>\n",
              "    <tr>\n",
              "      <th>38067</th>\n",
              "      <td>shawty mad she thought she was gonna be able t...</td>\n",
              "      <td>age</td>\n",
              "    </tr>\n",
              "    <tr>\n",
              "      <th>19512</th>\n",
              "      <td>“‘A Christian woman,’ he said contemptuously, ...</td>\n",
              "      <td>religion</td>\n",
              "    </tr>\n",
              "    <tr>\n",
              "      <th>6651</th>\n",
              "      <td>3. Kat and Andre</td>\n",
              "      <td>not_cyberbullying</td>\n",
              "    </tr>\n",
              "    <tr>\n",
              "      <th>44461</th>\n",
              "      <td>HELL NO DUMB STUPID BITCH TF WRONG WITH BETTER...</td>\n",
              "      <td>ethnicity</td>\n",
              "    </tr>\n",
              "    <tr>\n",
              "      <th>40817</th>\n",
              "      <td>@princeadmak so fuck you go back to Africa you...</td>\n",
              "      <td>ethnicity</td>\n",
              "    </tr>\n",
              "    <tr>\n",
              "      <th>26660</th>\n",
              "      <td>@petfish burn that mother down</td>\n",
              "      <td>other_cyberbullying</td>\n",
              "    </tr>\n",
              "    <tr>\n",
              "      <th>33679</th>\n",
              "      <td>MY EX BFF/HIGH SCHOOL BULLY WAS THERE. IM DONE</td>\n",
              "      <td>age</td>\n",
              "    </tr>\n",
              "    <tr>\n",
              "      <th>13466</th>\n",
              "      <td>can we start cancelling men who call women “fe...</td>\n",
              "      <td>gender</td>\n",
              "    </tr>\n",
              "  </tbody>\n",
              "</table>\n",
              "</div>\n",
              "      <button class=\"colab-df-convert\" onclick=\"convertToInteractive('df-d9e5dc11-0eaa-4e5c-a5a4-771d81c27b87')\"\n",
              "              title=\"Convert this dataframe to an interactive table.\"\n",
              "              style=\"display:none;\">\n",
              "        \n",
              "  <svg xmlns=\"http://www.w3.org/2000/svg\" height=\"24px\"viewBox=\"0 0 24 24\"\n",
              "       width=\"24px\">\n",
              "    <path d=\"M0 0h24v24H0V0z\" fill=\"none\"/>\n",
              "    <path d=\"M18.56 5.44l.94 2.06.94-2.06 2.06-.94-2.06-.94-.94-2.06-.94 2.06-2.06.94zm-11 1L8.5 8.5l.94-2.06 2.06-.94-2.06-.94L8.5 2.5l-.94 2.06-2.06.94zm10 10l.94 2.06.94-2.06 2.06-.94-2.06-.94-.94-2.06-.94 2.06-2.06.94z\"/><path d=\"M17.41 7.96l-1.37-1.37c-.4-.4-.92-.59-1.43-.59-.52 0-1.04.2-1.43.59L10.3 9.45l-7.72 7.72c-.78.78-.78 2.05 0 2.83L4 21.41c.39.39.9.59 1.41.59.51 0 1.02-.2 1.41-.59l7.78-7.78 2.81-2.81c.8-.78.8-2.07 0-2.86zM5.41 20L4 18.59l7.72-7.72 1.47 1.35L5.41 20z\"/>\n",
              "  </svg>\n",
              "      </button>\n",
              "      \n",
              "  <style>\n",
              "    .colab-df-container {\n",
              "      display:flex;\n",
              "      flex-wrap:wrap;\n",
              "      gap: 12px;\n",
              "    }\n",
              "\n",
              "    .colab-df-convert {\n",
              "      background-color: #E8F0FE;\n",
              "      border: none;\n",
              "      border-radius: 50%;\n",
              "      cursor: pointer;\n",
              "      display: none;\n",
              "      fill: #1967D2;\n",
              "      height: 32px;\n",
              "      padding: 0 0 0 0;\n",
              "      width: 32px;\n",
              "    }\n",
              "\n",
              "    .colab-df-convert:hover {\n",
              "      background-color: #E2EBFA;\n",
              "      box-shadow: 0px 1px 2px rgba(60, 64, 67, 0.3), 0px 1px 3px 1px rgba(60, 64, 67, 0.15);\n",
              "      fill: #174EA6;\n",
              "    }\n",
              "\n",
              "    [theme=dark] .colab-df-convert {\n",
              "      background-color: #3B4455;\n",
              "      fill: #D2E3FC;\n",
              "    }\n",
              "\n",
              "    [theme=dark] .colab-df-convert:hover {\n",
              "      background-color: #434B5C;\n",
              "      box-shadow: 0px 1px 3px 1px rgba(0, 0, 0, 0.15);\n",
              "      filter: drop-shadow(0px 1px 2px rgba(0, 0, 0, 0.3));\n",
              "      fill: #FFFFFF;\n",
              "    }\n",
              "  </style>\n",
              "\n",
              "      <script>\n",
              "        const buttonEl =\n",
              "          document.querySelector('#df-d9e5dc11-0eaa-4e5c-a5a4-771d81c27b87 button.colab-df-convert');\n",
              "        buttonEl.style.display =\n",
              "          google.colab.kernel.accessAllowed ? 'block' : 'none';\n",
              "\n",
              "        async function convertToInteractive(key) {\n",
              "          const element = document.querySelector('#df-d9e5dc11-0eaa-4e5c-a5a4-771d81c27b87');\n",
              "          const dataTable =\n",
              "            await google.colab.kernel.invokeFunction('convertToInteractive',\n",
              "                                                     [key], {});\n",
              "          if (!dataTable) return;\n",
              "\n",
              "          const docLinkHtml = 'Like what you see? Visit the ' +\n",
              "            '<a target=\"_blank\" href=https://colab.research.google.com/notebooks/data_table.ipynb>data table notebook</a>'\n",
              "            + ' to learn more about interactive tables.';\n",
              "          element.innerHTML = '';\n",
              "          dataTable['output_type'] = 'display_data';\n",
              "          await google.colab.output.renderOutput(dataTable, element);\n",
              "          const docLink = document.createElement('div');\n",
              "          docLink.innerHTML = docLinkHtml;\n",
              "          element.appendChild(docLink);\n",
              "        }\n",
              "      </script>\n",
              "    </div>\n",
              "  </div>\n",
              "  "
            ]
          },
          "metadata": {},
          "execution_count": 6
        }
      ],
      "source": [
        "# Checking 10 samples\n",
        "df.sample(10)"
      ],
      "id": "zik4RA5IcofD"
    },
    {
      "cell_type": "code",
      "execution_count": null,
      "metadata": {
        "colab": {
          "base_uri": "https://localhost:8080/",
          "height": 424
        },
        "id": "n5LRBEmDcofD",
        "outputId": "f6e590ab-442a-4fd2-e28d-d9ddd070457b"
      },
      "outputs": [
        {
          "output_type": "execute_result",
          "data": {
            "text/plain": [
              "                                                    text          sentiment  \\\n",
              "0      In other words #katandandre, your food was cra...  not_cyberbullying   \n",
              "1      Why is #aussietv so white? #MKR #theblock #ImA...  not_cyberbullying   \n",
              "2      @XochitlSuckkks a classy whore? Or more red ve...  not_cyberbullying   \n",
              "3      @Jason_Gio meh. :P  thanks for the heads up, b...  not_cyberbullying   \n",
              "4      @RudhoeEnglish This is an ISIS account pretend...  not_cyberbullying   \n",
              "...                                                  ...                ...   \n",
              "47687  Black ppl aren't expected to do anything, depe...          ethnicity   \n",
              "47688  Turner did not withhold his disappointment. Tu...          ethnicity   \n",
              "47689  I swear to God. This dumb nigger bitch. I have...          ethnicity   \n",
              "47690  Yea fuck you RT @therealexel: IF YOURE A NIGGE...          ethnicity   \n",
              "47691  Bro. U gotta chill RT @CHILLShrammy: Dog FUCK ...          ethnicity   \n",
              "\n",
              "       target_bullying  \n",
              "0                    0  \n",
              "1                    0  \n",
              "2                    0  \n",
              "3                    0  \n",
              "4                    0  \n",
              "...                ...  \n",
              "47687                1  \n",
              "47688                1  \n",
              "47689                1  \n",
              "47690                1  \n",
              "47691                1  \n",
              "\n",
              "[47692 rows x 3 columns]"
            ],
            "text/html": [
              "\n",
              "  <div id=\"df-0c41ca93-533a-40f7-a653-a1c9e3afaf9f\">\n",
              "    <div class=\"colab-df-container\">\n",
              "      <div>\n",
              "<style scoped>\n",
              "    .dataframe tbody tr th:only-of-type {\n",
              "        vertical-align: middle;\n",
              "    }\n",
              "\n",
              "    .dataframe tbody tr th {\n",
              "        vertical-align: top;\n",
              "    }\n",
              "\n",
              "    .dataframe thead th {\n",
              "        text-align: right;\n",
              "    }\n",
              "</style>\n",
              "<table border=\"1\" class=\"dataframe\">\n",
              "  <thead>\n",
              "    <tr style=\"text-align: right;\">\n",
              "      <th></th>\n",
              "      <th>text</th>\n",
              "      <th>sentiment</th>\n",
              "      <th>target_bullying</th>\n",
              "    </tr>\n",
              "  </thead>\n",
              "  <tbody>\n",
              "    <tr>\n",
              "      <th>0</th>\n",
              "      <td>In other words #katandandre, your food was cra...</td>\n",
              "      <td>not_cyberbullying</td>\n",
              "      <td>0</td>\n",
              "    </tr>\n",
              "    <tr>\n",
              "      <th>1</th>\n",
              "      <td>Why is #aussietv so white? #MKR #theblock #ImA...</td>\n",
              "      <td>not_cyberbullying</td>\n",
              "      <td>0</td>\n",
              "    </tr>\n",
              "    <tr>\n",
              "      <th>2</th>\n",
              "      <td>@XochitlSuckkks a classy whore? Or more red ve...</td>\n",
              "      <td>not_cyberbullying</td>\n",
              "      <td>0</td>\n",
              "    </tr>\n",
              "    <tr>\n",
              "      <th>3</th>\n",
              "      <td>@Jason_Gio meh. :P  thanks for the heads up, b...</td>\n",
              "      <td>not_cyberbullying</td>\n",
              "      <td>0</td>\n",
              "    </tr>\n",
              "    <tr>\n",
              "      <th>4</th>\n",
              "      <td>@RudhoeEnglish This is an ISIS account pretend...</td>\n",
              "      <td>not_cyberbullying</td>\n",
              "      <td>0</td>\n",
              "    </tr>\n",
              "    <tr>\n",
              "      <th>...</th>\n",
              "      <td>...</td>\n",
              "      <td>...</td>\n",
              "      <td>...</td>\n",
              "    </tr>\n",
              "    <tr>\n",
              "      <th>47687</th>\n",
              "      <td>Black ppl aren't expected to do anything, depe...</td>\n",
              "      <td>ethnicity</td>\n",
              "      <td>1</td>\n",
              "    </tr>\n",
              "    <tr>\n",
              "      <th>47688</th>\n",
              "      <td>Turner did not withhold his disappointment. Tu...</td>\n",
              "      <td>ethnicity</td>\n",
              "      <td>1</td>\n",
              "    </tr>\n",
              "    <tr>\n",
              "      <th>47689</th>\n",
              "      <td>I swear to God. This dumb nigger bitch. I have...</td>\n",
              "      <td>ethnicity</td>\n",
              "      <td>1</td>\n",
              "    </tr>\n",
              "    <tr>\n",
              "      <th>47690</th>\n",
              "      <td>Yea fuck you RT @therealexel: IF YOURE A NIGGE...</td>\n",
              "      <td>ethnicity</td>\n",
              "      <td>1</td>\n",
              "    </tr>\n",
              "    <tr>\n",
              "      <th>47691</th>\n",
              "      <td>Bro. U gotta chill RT @CHILLShrammy: Dog FUCK ...</td>\n",
              "      <td>ethnicity</td>\n",
              "      <td>1</td>\n",
              "    </tr>\n",
              "  </tbody>\n",
              "</table>\n",
              "<p>47692 rows × 3 columns</p>\n",
              "</div>\n",
              "      <button class=\"colab-df-convert\" onclick=\"convertToInteractive('df-0c41ca93-533a-40f7-a653-a1c9e3afaf9f')\"\n",
              "              title=\"Convert this dataframe to an interactive table.\"\n",
              "              style=\"display:none;\">\n",
              "        \n",
              "  <svg xmlns=\"http://www.w3.org/2000/svg\" height=\"24px\"viewBox=\"0 0 24 24\"\n",
              "       width=\"24px\">\n",
              "    <path d=\"M0 0h24v24H0V0z\" fill=\"none\"/>\n",
              "    <path d=\"M18.56 5.44l.94 2.06.94-2.06 2.06-.94-2.06-.94-.94-2.06-.94 2.06-2.06.94zm-11 1L8.5 8.5l.94-2.06 2.06-.94-2.06-.94L8.5 2.5l-.94 2.06-2.06.94zm10 10l.94 2.06.94-2.06 2.06-.94-2.06-.94-.94-2.06-.94 2.06-2.06.94z\"/><path d=\"M17.41 7.96l-1.37-1.37c-.4-.4-.92-.59-1.43-.59-.52 0-1.04.2-1.43.59L10.3 9.45l-7.72 7.72c-.78.78-.78 2.05 0 2.83L4 21.41c.39.39.9.59 1.41.59.51 0 1.02-.2 1.41-.59l7.78-7.78 2.81-2.81c.8-.78.8-2.07 0-2.86zM5.41 20L4 18.59l7.72-7.72 1.47 1.35L5.41 20z\"/>\n",
              "  </svg>\n",
              "      </button>\n",
              "      \n",
              "  <style>\n",
              "    .colab-df-container {\n",
              "      display:flex;\n",
              "      flex-wrap:wrap;\n",
              "      gap: 12px;\n",
              "    }\n",
              "\n",
              "    .colab-df-convert {\n",
              "      background-color: #E8F0FE;\n",
              "      border: none;\n",
              "      border-radius: 50%;\n",
              "      cursor: pointer;\n",
              "      display: none;\n",
              "      fill: #1967D2;\n",
              "      height: 32px;\n",
              "      padding: 0 0 0 0;\n",
              "      width: 32px;\n",
              "    }\n",
              "\n",
              "    .colab-df-convert:hover {\n",
              "      background-color: #E2EBFA;\n",
              "      box-shadow: 0px 1px 2px rgba(60, 64, 67, 0.3), 0px 1px 3px 1px rgba(60, 64, 67, 0.15);\n",
              "      fill: #174EA6;\n",
              "    }\n",
              "\n",
              "    [theme=dark] .colab-df-convert {\n",
              "      background-color: #3B4455;\n",
              "      fill: #D2E3FC;\n",
              "    }\n",
              "\n",
              "    [theme=dark] .colab-df-convert:hover {\n",
              "      background-color: #434B5C;\n",
              "      box-shadow: 0px 1px 3px 1px rgba(0, 0, 0, 0.15);\n",
              "      filter: drop-shadow(0px 1px 2px rgba(0, 0, 0, 0.3));\n",
              "      fill: #FFFFFF;\n",
              "    }\n",
              "  </style>\n",
              "\n",
              "      <script>\n",
              "        const buttonEl =\n",
              "          document.querySelector('#df-0c41ca93-533a-40f7-a653-a1c9e3afaf9f button.colab-df-convert');\n",
              "        buttonEl.style.display =\n",
              "          google.colab.kernel.accessAllowed ? 'block' : 'none';\n",
              "\n",
              "        async function convertToInteractive(key) {\n",
              "          const element = document.querySelector('#df-0c41ca93-533a-40f7-a653-a1c9e3afaf9f');\n",
              "          const dataTable =\n",
              "            await google.colab.kernel.invokeFunction('convertToInteractive',\n",
              "                                                     [key], {});\n",
              "          if (!dataTable) return;\n",
              "\n",
              "          const docLinkHtml = 'Like what you see? Visit the ' +\n",
              "            '<a target=\"_blank\" href=https://colab.research.google.com/notebooks/data_table.ipynb>data table notebook</a>'\n",
              "            + ' to learn more about interactive tables.';\n",
              "          element.innerHTML = '';\n",
              "          dataTable['output_type'] = 'display_data';\n",
              "          await google.colab.output.renderOutput(dataTable, element);\n",
              "          const docLink = document.createElement('div');\n",
              "          docLink.innerHTML = docLinkHtml;\n",
              "          element.appendChild(docLink);\n",
              "        }\n",
              "      </script>\n",
              "    </div>\n",
              "  </div>\n",
              "  "
            ]
          },
          "metadata": {},
          "execution_count": 7
        }
      ],
      "source": [
        "df[\"target_bullying\"] = np.where(df['sentiment']!=\"not_cyberbullying\",1,0)\n",
        "df"
      ],
      "id": "n5LRBEmDcofD"
    },
    {
      "cell_type": "code",
      "source": [
        "df['sentiment'].unique()"
      ],
      "metadata": {
        "colab": {
          "base_uri": "https://localhost:8080/"
        },
        "id": "FkiXxS7s3VtO",
        "outputId": "cab080d5-d2fc-409a-f38a-113cb778b67f"
      },
      "id": "FkiXxS7s3VtO",
      "execution_count": null,
      "outputs": [
        {
          "output_type": "execute_result",
          "data": {
            "text/plain": [
              "array(['not_cyberbullying', 'gender', 'religion', 'other_cyberbullying',\n",
              "       'age', 'ethnicity'], dtype=object)"
            ]
          },
          "metadata": {},
          "execution_count": 49
        }
      ]
    },
    {
      "cell_type": "code",
      "source": [
        "from sklearn.preprocessing import LabelEncoder\n",
        "LE = LabelEncoder()\n",
        "df[\"type_bullying\"] = LE.fit_transform(df[\"sentiment\"])\n",
        "df"
      ],
      "metadata": {
        "colab": {
          "base_uri": "https://localhost:8080/",
          "height": 424
        },
        "id": "faP_ii2hig_E",
        "outputId": "edcd3aec-a1eb-4e36-b858-53d4d5915318"
      },
      "id": "faP_ii2hig_E",
      "execution_count": null,
      "outputs": [
        {
          "output_type": "execute_result",
          "data": {
            "text/plain": [
              "                                                    text          sentiment  \\\n",
              "0      In other words #katandandre, your food was cra...  not_cyberbullying   \n",
              "1      Why is #aussietv so white? #MKR #theblock #ImA...  not_cyberbullying   \n",
              "2      @XochitlSuckkks a classy whore? Or more red ve...  not_cyberbullying   \n",
              "3      @Jason_Gio meh. :P  thanks for the heads up, b...  not_cyberbullying   \n",
              "4      @RudhoeEnglish This is an ISIS account pretend...  not_cyberbullying   \n",
              "...                                                  ...                ...   \n",
              "47687  Black ppl aren't expected to do anything, depe...          ethnicity   \n",
              "47688  Turner did not withhold his disappointment. Tu...          ethnicity   \n",
              "47689  I swear to God. This dumb nigger bitch. I have...          ethnicity   \n",
              "47690  Yea fuck you RT @therealexel: IF YOURE A NIGGE...          ethnicity   \n",
              "47691  Bro. U gotta chill RT @CHILLShrammy: Dog FUCK ...          ethnicity   \n",
              "\n",
              "       target_bullying  type_bullying  \n",
              "0                    0              3  \n",
              "1                    0              3  \n",
              "2                    0              3  \n",
              "3                    0              3  \n",
              "4                    0              3  \n",
              "...                ...            ...  \n",
              "47687                1              1  \n",
              "47688                1              1  \n",
              "47689                1              1  \n",
              "47690                1              1  \n",
              "47691                1              1  \n",
              "\n",
              "[47692 rows x 4 columns]"
            ],
            "text/html": [
              "\n",
              "  <div id=\"df-bdec23a8-b647-48a4-8cca-7bd53dfca84d\">\n",
              "    <div class=\"colab-df-container\">\n",
              "      <div>\n",
              "<style scoped>\n",
              "    .dataframe tbody tr th:only-of-type {\n",
              "        vertical-align: middle;\n",
              "    }\n",
              "\n",
              "    .dataframe tbody tr th {\n",
              "        vertical-align: top;\n",
              "    }\n",
              "\n",
              "    .dataframe thead th {\n",
              "        text-align: right;\n",
              "    }\n",
              "</style>\n",
              "<table border=\"1\" class=\"dataframe\">\n",
              "  <thead>\n",
              "    <tr style=\"text-align: right;\">\n",
              "      <th></th>\n",
              "      <th>text</th>\n",
              "      <th>sentiment</th>\n",
              "      <th>target_bullying</th>\n",
              "      <th>type_bullying</th>\n",
              "    </tr>\n",
              "  </thead>\n",
              "  <tbody>\n",
              "    <tr>\n",
              "      <th>0</th>\n",
              "      <td>In other words #katandandre, your food was cra...</td>\n",
              "      <td>not_cyberbullying</td>\n",
              "      <td>0</td>\n",
              "      <td>3</td>\n",
              "    </tr>\n",
              "    <tr>\n",
              "      <th>1</th>\n",
              "      <td>Why is #aussietv so white? #MKR #theblock #ImA...</td>\n",
              "      <td>not_cyberbullying</td>\n",
              "      <td>0</td>\n",
              "      <td>3</td>\n",
              "    </tr>\n",
              "    <tr>\n",
              "      <th>2</th>\n",
              "      <td>@XochitlSuckkks a classy whore? Or more red ve...</td>\n",
              "      <td>not_cyberbullying</td>\n",
              "      <td>0</td>\n",
              "      <td>3</td>\n",
              "    </tr>\n",
              "    <tr>\n",
              "      <th>3</th>\n",
              "      <td>@Jason_Gio meh. :P  thanks for the heads up, b...</td>\n",
              "      <td>not_cyberbullying</td>\n",
              "      <td>0</td>\n",
              "      <td>3</td>\n",
              "    </tr>\n",
              "    <tr>\n",
              "      <th>4</th>\n",
              "      <td>@RudhoeEnglish This is an ISIS account pretend...</td>\n",
              "      <td>not_cyberbullying</td>\n",
              "      <td>0</td>\n",
              "      <td>3</td>\n",
              "    </tr>\n",
              "    <tr>\n",
              "      <th>...</th>\n",
              "      <td>...</td>\n",
              "      <td>...</td>\n",
              "      <td>...</td>\n",
              "      <td>...</td>\n",
              "    </tr>\n",
              "    <tr>\n",
              "      <th>47687</th>\n",
              "      <td>Black ppl aren't expected to do anything, depe...</td>\n",
              "      <td>ethnicity</td>\n",
              "      <td>1</td>\n",
              "      <td>1</td>\n",
              "    </tr>\n",
              "    <tr>\n",
              "      <th>47688</th>\n",
              "      <td>Turner did not withhold his disappointment. Tu...</td>\n",
              "      <td>ethnicity</td>\n",
              "      <td>1</td>\n",
              "      <td>1</td>\n",
              "    </tr>\n",
              "    <tr>\n",
              "      <th>47689</th>\n",
              "      <td>I swear to God. This dumb nigger bitch. I have...</td>\n",
              "      <td>ethnicity</td>\n",
              "      <td>1</td>\n",
              "      <td>1</td>\n",
              "    </tr>\n",
              "    <tr>\n",
              "      <th>47690</th>\n",
              "      <td>Yea fuck you RT @therealexel: IF YOURE A NIGGE...</td>\n",
              "      <td>ethnicity</td>\n",
              "      <td>1</td>\n",
              "      <td>1</td>\n",
              "    </tr>\n",
              "    <tr>\n",
              "      <th>47691</th>\n",
              "      <td>Bro. U gotta chill RT @CHILLShrammy: Dog FUCK ...</td>\n",
              "      <td>ethnicity</td>\n",
              "      <td>1</td>\n",
              "      <td>1</td>\n",
              "    </tr>\n",
              "  </tbody>\n",
              "</table>\n",
              "<p>47692 rows × 4 columns</p>\n",
              "</div>\n",
              "      <button class=\"colab-df-convert\" onclick=\"convertToInteractive('df-bdec23a8-b647-48a4-8cca-7bd53dfca84d')\"\n",
              "              title=\"Convert this dataframe to an interactive table.\"\n",
              "              style=\"display:none;\">\n",
              "        \n",
              "  <svg xmlns=\"http://www.w3.org/2000/svg\" height=\"24px\"viewBox=\"0 0 24 24\"\n",
              "       width=\"24px\">\n",
              "    <path d=\"M0 0h24v24H0V0z\" fill=\"none\"/>\n",
              "    <path d=\"M18.56 5.44l.94 2.06.94-2.06 2.06-.94-2.06-.94-.94-2.06-.94 2.06-2.06.94zm-11 1L8.5 8.5l.94-2.06 2.06-.94-2.06-.94L8.5 2.5l-.94 2.06-2.06.94zm10 10l.94 2.06.94-2.06 2.06-.94-2.06-.94-.94-2.06-.94 2.06-2.06.94z\"/><path d=\"M17.41 7.96l-1.37-1.37c-.4-.4-.92-.59-1.43-.59-.52 0-1.04.2-1.43.59L10.3 9.45l-7.72 7.72c-.78.78-.78 2.05 0 2.83L4 21.41c.39.39.9.59 1.41.59.51 0 1.02-.2 1.41-.59l7.78-7.78 2.81-2.81c.8-.78.8-2.07 0-2.86zM5.41 20L4 18.59l7.72-7.72 1.47 1.35L5.41 20z\"/>\n",
              "  </svg>\n",
              "      </button>\n",
              "      \n",
              "  <style>\n",
              "    .colab-df-container {\n",
              "      display:flex;\n",
              "      flex-wrap:wrap;\n",
              "      gap: 12px;\n",
              "    }\n",
              "\n",
              "    .colab-df-convert {\n",
              "      background-color: #E8F0FE;\n",
              "      border: none;\n",
              "      border-radius: 50%;\n",
              "      cursor: pointer;\n",
              "      display: none;\n",
              "      fill: #1967D2;\n",
              "      height: 32px;\n",
              "      padding: 0 0 0 0;\n",
              "      width: 32px;\n",
              "    }\n",
              "\n",
              "    .colab-df-convert:hover {\n",
              "      background-color: #E2EBFA;\n",
              "      box-shadow: 0px 1px 2px rgba(60, 64, 67, 0.3), 0px 1px 3px 1px rgba(60, 64, 67, 0.15);\n",
              "      fill: #174EA6;\n",
              "    }\n",
              "\n",
              "    [theme=dark] .colab-df-convert {\n",
              "      background-color: #3B4455;\n",
              "      fill: #D2E3FC;\n",
              "    }\n",
              "\n",
              "    [theme=dark] .colab-df-convert:hover {\n",
              "      background-color: #434B5C;\n",
              "      box-shadow: 0px 1px 3px 1px rgba(0, 0, 0, 0.15);\n",
              "      filter: drop-shadow(0px 1px 2px rgba(0, 0, 0, 0.3));\n",
              "      fill: #FFFFFF;\n",
              "    }\n",
              "  </style>\n",
              "\n",
              "      <script>\n",
              "        const buttonEl =\n",
              "          document.querySelector('#df-bdec23a8-b647-48a4-8cca-7bd53dfca84d button.colab-df-convert');\n",
              "        buttonEl.style.display =\n",
              "          google.colab.kernel.accessAllowed ? 'block' : 'none';\n",
              "\n",
              "        async function convertToInteractive(key) {\n",
              "          const element = document.querySelector('#df-bdec23a8-b647-48a4-8cca-7bd53dfca84d');\n",
              "          const dataTable =\n",
              "            await google.colab.kernel.invokeFunction('convertToInteractive',\n",
              "                                                     [key], {});\n",
              "          if (!dataTable) return;\n",
              "\n",
              "          const docLinkHtml = 'Like what you see? Visit the ' +\n",
              "            '<a target=\"_blank\" href=https://colab.research.google.com/notebooks/data_table.ipynb>data table notebook</a>'\n",
              "            + ' to learn more about interactive tables.';\n",
              "          element.innerHTML = '';\n",
              "          dataTable['output_type'] = 'display_data';\n",
              "          await google.colab.output.renderOutput(dataTable, element);\n",
              "          const docLink = document.createElement('div');\n",
              "          docLink.innerHTML = docLinkHtml;\n",
              "          element.appendChild(docLink);\n",
              "        }\n",
              "      </script>\n",
              "    </div>\n",
              "  </div>\n",
              "  "
            ]
          },
          "metadata": {},
          "execution_count": 8
        }
      ]
    },
    {
      "cell_type": "code",
      "source": [
        "from nltk.tokenize import word_tokenize\n",
        "from nltk.stem import PorterStemmer\n",
        "nltk.download('omw-1.4')\n",
        "sw_eng = stopwords.words('english')\n",
        "def clean_review(review):\n",
        "    '''\n",
        "    Input:\n",
        "        review: a string containing a review.\n",
        "    Output:\n",
        "        review_cleaned: a processed review. \n",
        "\n",
        "    '''\n",
        "    review_in_lowercase = review.lower()\n",
        "    no_punctuation = review_in_lowercase.translate(review_in_lowercase.maketrans('', '', string.punctuation))\n",
        "    no_url = re.sub(r'https?:\\/\\/.*[\\r\\n]*','', no_punctuation)\n",
        "    review_tokens = word_tokenize(no_url)\n",
        "    no_stopwords_tokens = [token for token in review_tokens if not token in sw_eng]\n",
        "    porter = PorterStemmer()\n",
        "    lemmatizer = WordNetLemmatizer()\n",
        "    review_cleaned = ''\n",
        "    \n",
        "    for each in no_stopwords_tokens:\n",
        "        review_cleaned = review_cleaned + lemmatizer.lemmatize(each) + \" \"\n",
        "    \n",
        "    return review_cleaned\n",
        "\n",
        "df['text'] = df['text'].apply(lambda x : clean_review(x))"
      ],
      "metadata": {
        "colab": {
          "base_uri": "https://localhost:8080/"
        },
        "id": "Zsw7VXhYpVvL",
        "outputId": "092a98be-712b-4bef-f1c7-0fbf45239c03"
      },
      "id": "Zsw7VXhYpVvL",
      "execution_count": null,
      "outputs": [
        {
          "output_type": "stream",
          "name": "stderr",
          "text": [
            "[nltk_data] Downloading package omw-1.4 to /root/nltk_data...\n",
            "[nltk_data]   Package omw-1.4 is already up-to-date!\n"
          ]
        }
      ]
    },
    {
      "cell_type": "code",
      "source": [
        "df['target_bullying'].value_counts()"
      ],
      "metadata": {
        "colab": {
          "base_uri": "https://localhost:8080/"
        },
        "id": "H-BV9HPCtXzm",
        "outputId": "7e38207b-1a7d-44a3-d710-43993e5c5493"
      },
      "id": "H-BV9HPCtXzm",
      "execution_count": null,
      "outputs": [
        {
          "output_type": "execute_result",
          "data": {
            "text/plain": [
              "1    39747\n",
              "0     7945\n",
              "Name: target_bullying, dtype: int64"
            ]
          },
          "metadata": {},
          "execution_count": 11
        }
      ]
    },
    {
      "cell_type": "markdown",
      "source": [
        "# Clustering"
      ],
      "metadata": {
        "id": "sDOTxM_V9Bj9"
      },
      "id": "sDOTxM_V9Bj9"
    },
    {
      "cell_type": "code",
      "source": [
        "from sklearn.cluster import KMeans\n",
        "import matplotlib.pyplot as plt\n",
        "\n",
        "vector = TfidfVectorizer(sublinear_tf=True, min_df=5, max_df=0.95)\n",
        "X = vector.fit_transform(df['text'])"
      ],
      "metadata": {
        "id": "5dV2ntiL5RNl"
      },
      "id": "5dV2ntiL5RNl",
      "execution_count": null,
      "outputs": []
    },
    {
      "cell_type": "code",
      "source": [
        "inertias = []\n",
        "for cluster in range(2,15):\n",
        "  kmeans = KMeans(n_clusters=cluster)\n",
        "  kmeans.fit(X)\n",
        "  inertias.append(kmeans.inertia_)\n",
        "\n",
        "#!pip install -U matplotlib -q\n",
        "plt.figure(figsize = (16,8))\n",
        "plt.plot(range(2,15),inertias)\n",
        "sns.scatterplot(range(2,15),inertias)\n",
        "plt.xticks(range(2,15))\n",
        "plt.title(\"K-means Elbow Method\")\n",
        "plt.show()\n",
        "plt.imsave('kmeans-elbow.png')"
      ],
      "metadata": {
        "colab": {
          "base_uri": "https://localhost:8080/",
          "height": 737
        },
        "id": "R1gVrGSp-saC",
        "outputId": "ce26147a-cdd7-4986-fce4-9bf2dfd9e36a"
      },
      "id": "R1gVrGSp-saC",
      "execution_count": null,
      "outputs": [
        {
          "output_type": "stream",
          "name": "stderr",
          "text": [
            "/usr/local/lib/python3.8/dist-packages/seaborn/_decorators.py:36: FutureWarning: Pass the following variables as keyword args: x, y. From version 0.12, the only valid positional argument will be `data`, and passing other arguments without an explicit keyword will result in an error or misinterpretation.\n",
            "  warnings.warn(\n"
          ]
        },
        {
          "output_type": "display_data",
          "data": {
            "text/plain": [
              "<Figure size 1152x576 with 1 Axes>"
            ],
            "image/png": "[encoded data removed]"
          },
          "metadata": {
            "needs_background": "light"
          }
        },
        {
          "output_type": "error",
          "ename": "TypeError",
          "evalue": "ignored",
          "traceback": [
            "\u001b[0;31m---------------------------------------------------------------------------\u001b[0m",
            "\u001b[0;31mTypeError\u001b[0m                                 Traceback (most recent call last)",
            "\u001b[0;32m<ipython-input-54-0adecf177b21>\u001b[0m in \u001b[0;36m<module>\u001b[0;34m\u001b[0m\n\u001b[1;32m     12\u001b[0m \u001b[0mplt\u001b[0m\u001b[0;34m.\u001b[0m\u001b[0mtitle\u001b[0m\u001b[0;34m(\u001b[0m\u001b[0;34m\"K-means Elbow Method\"\u001b[0m\u001b[0;34m)\u001b[0m\u001b[0;34m\u001b[0m\u001b[0;34m\u001b[0m\u001b[0m\n\u001b[1;32m     13\u001b[0m \u001b[0mplt\u001b[0m\u001b[0;34m.\u001b[0m\u001b[0mshow\u001b[0m\u001b[0;34m(\u001b[0m\u001b[0;34m)\u001b[0m\u001b[0;34m\u001b[0m\u001b[0;34m\u001b[0m\u001b[0m\n\u001b[0;32m---> 14\u001b[0;31m \u001b[0mplt\u001b[0m\u001b[0;34m.\u001b[0m\u001b[0mimsave\u001b[0m\u001b[0;34m(\u001b[0m\u001b[0;34m'kmeans-elbow.png'\u001b[0m\u001b[0;34m)\u001b[0m\u001b[0;34m\u001b[0m\u001b[0;34m\u001b[0m\u001b[0m\n\u001b[0m",
            "\u001b[0;31mTypeError\u001b[0m: imsave() missing 1 required positional argument: 'arr'"
          ]
        }
      ]
    },
    {
      "cell_type": "code",
      "source": [
        "kmeans = KMeans(n_clusters=4)\n",
        "kmeans.fit(X)\n",
        "labels = kmeans.labels_"
      ],
      "metadata": {
        "id": "Dwy6dZSjDFnm"
      },
      "id": "Dwy6dZSjDFnm",
      "execution_count": null,
      "outputs": []
    },
    {
      "cell_type": "code",
      "source": [
        "from sklearn.decomposition import PCA\n",
        "pca = PCA(n_components=2, random_state=42)\n",
        "pca_vecs = pca.fit_transform(X.toarray())\n",
        "x0 = pca_vecs[:, 0]\n",
        "x1 = pca_vecs[:, 1]"
      ],
      "metadata": {
        "id": "NxoVogAK-wo3"
      },
      "id": "NxoVogAK-wo3",
      "execution_count": null,
      "outputs": []
    },
    {
      "cell_type": "code",
      "source": [
        "df['cluster'] = labels\n",
        "df['x0'] = x0\n",
        "df['x1'] = x1"
      ],
      "metadata": {
        "id": "moXE7o0FC8IG"
      },
      "id": "moXE7o0FC8IG",
      "execution_count": null,
      "outputs": []
    },
    {
      "cell_type": "code",
      "source": [
        "model.summary()"
      ],
      "metadata": {
        "colab": {
          "base_uri": "https://localhost:8080/"
        },
        "id": "hIEUuC4B9XWX",
        "outputId": "02f17ef4-d793-48c0-a2f5-31046cc71f06"
      },
      "id": "hIEUuC4B9XWX",
      "execution_count": null,
      "outputs": [
        {
          "output_type": "stream",
          "name": "stdout",
          "text": [
            "Model: \"sequential\"\n",
            "_________________________________________________________________\n",
            " Layer (type)                Output Shape              Param #   \n",
            "=================================================================\n",
            " dense (Dense)               (None, 64)                612096    \n",
            "                                                                 \n",
            " dropout (Dropout)           (None, 64)                0         \n",
            "                                                                 \n",
            " dense_1 (Dense)             (None, 32)                2080      \n",
            "                                                                 \n",
            " dropout_1 (Dropout)         (None, 32)                0         \n",
            "                                                                 \n",
            " dense_2 (Dense)             (None, 16)                528       \n",
            "                                                                 \n",
            " dropout_2 (Dropout)         (None, 16)                0         \n",
            "                                                                 \n",
            " dense_3 (Dense)             (None, 1)                 17        \n",
            "                                                                 \n",
            "=================================================================\n",
            "Total params: 614,721\n",
            "Trainable params: 614,721\n",
            "Non-trainable params: 0\n",
            "_________________________________________________________________\n"
          ]
        }
      ]
    },
    {
      "cell_type": "code",
      "source": [
        "def get_top_keywords(n_terms):\n",
        "    \"\"\"This function returns the keywords for each centroid of the KMeans\"\"\"\n",
        "    df = pd.DataFrame(X).groupby(labels).mean() # groups the TF-IDF vector by cluster\n",
        "    terms = vector.get_feature_names_out() # access tf-idf terms\n",
        "    for i,r in df.iterrows():\n",
        "        print('\\nCluster {}'.format(i))\n",
        "        print(','.join([terms[t] for t in np.argsort(r)[-n_terms:]])) # for each row of the dataframe, find the n terms that have the highest tf idf score\n",
        "            \n",
        "get_top_keywords(15)"
      ],
      "metadata": {
        "colab": {
          "base_uri": "https://localhost:8080/"
        },
        "id": "v8aaTfzRDf8C",
        "outputId": "3a9c7e3a-950e-47e4-c6a2-7b0897b973ac"
      },
      "id": "v8aaTfzRDf8C",
      "execution_count": null,
      "outputs": [
        {
          "output_type": "stream",
          "name": "stdout",
          "text": [
            "\n",
            "Cluster 0\n",
            "dont,men,think,cyrus,miley,made,like,prison,making,people,funny,make,gay,rape,joke\n",
            "\n",
            "Cluster 1\n",
            "year,people,friend,get,would,kid,one,got,middle,like,bully,girl,bullied,high,school\n",
            "\n",
            "Cluster 2\n",
            "white,get,shut,nigga,mad,fucking,shit,bitch,rt,tayyoung,obama,as,nigger,dumb,fuck\n",
            "\n",
            "Cluster 3\n",
            "get,black,know,right,christian,one,dont,people,woman,im,like,idiot,muslim,rt,mkr\n"
          ]
        }
      ]
    },
    {
      "cell_type": "code",
      "source": [
        "['not_cyberbullying', 'gender', 'religion', 'other_cyberbullying',\n",
        "       'age', 'ethnicity']"
      ],
      "metadata": {
        "id": "05qCreJjMub1"
      },
      "id": "05qCreJjMub1",
      "execution_count": null,
      "outputs": []
    },
    {
      "cell_type": "code",
      "source": [
        "#!pip install -U matplotlib\n",
        "plt.figure(figsize=(12, 7))\n",
        "plt.title(\"TF-IDF + KMeans clustering\", fontdict={\"fontsize\": 18})\n",
        "plt.xlabel(\"X0\", fontdict={\"fontsize\": 16})\n",
        "plt.ylabel(\"X1\", fontdict={\"fontsize\": 16})\n",
        "sns.scatterplot(data=df, x='x0', y='x1', hue='cluster', palette=\"viridis\")\n",
        "plt.show()"
      ],
      "metadata": {
        "id": "T7Kzj9wzD7vD"
      },
      "id": "T7Kzj9wzD7vD",
      "execution_count": null,
      "outputs": []
    },
    {
      "cell_type": "markdown",
      "source": [
        "# ANN"
      ],
      "metadata": {
        "id": "MIh42ojcEbbW"
      },
      "id": "MIh42ojcEbbW"
    },
    {
      "cell_type": "code",
      "source": [
        "df.head()"
      ],
      "metadata": {
        "id": "FT8_32Q0Ec8l"
      },
      "id": "FT8_32Q0Ec8l",
      "execution_count": null,
      "outputs": []
    },
    {
      "cell_type": "code",
      "source": [
        "import tensorflow as tf                                                         \n",
        "from tensorflow import keras\n",
        "\n",
        "tf.random.set_seed(42)                                                          \n",
        "\n",
        "#keep_prob = tf.placeholder(tf.float32)\n",
        "\n",
        "# complete this linear model in tensorflow\n",
        "def build_model(X):\n",
        "    # layer 1 : input layer\n",
        "    inp = tf.keras.Input((X.shape[1],))\n",
        "    model = tf.keras.Sequential()\n",
        "\n",
        "    # layer 2 : add the dense layer with 64 units and relu activation\n",
        "    model.add(tf.keras.layers.Dense(64, activation='relu'))\n",
        "\n",
        "    # layer 3 : add the dropout layer with dropout rate of 0.5\n",
        "    model.add(tf.keras.layers.Dropout(0.5))\n",
        "    # layer 4 : add the dense layer with 32 units with tanh activation and with l2 regularization\n",
        "    model.add(tf.keras.layers.Dense(32, activation='tanh', kernel_regularizer='l2'))\n",
        "\n",
        "    # layer 5 : add the dropout layer with dropout rate of 0.5\n",
        "    model.add(tf.keras.layers.Dropout(0.5))\n",
        "\n",
        "    # layer 6 : add the dense layer with 16 units with tanh activation and with l2 regularization\n",
        "    model.add(tf.keras.layers.Dense(16, activation='tanh', kernel_regularizer='l2'))\n",
        "\n",
        "    # layer 7 : add the dropout layer with dropout rate of 0.5\n",
        "    model.add(tf.keras.layers.Dropout(0.5))\n",
        "\n",
        "    # layer 8 : output layer with units equal to 1 and activation as sigmoid\n",
        "    model.add(tf.keras.layers.Dense(1, activation='sigmoid'))\n",
        "\n",
        "    # use loss as binary crossentropy, optimizer as rmsprop and evaluate model on auc \n",
        "    model.compile(loss='binary_crossentropy', optimizer='rmsprop', metrics=[tf.keras.metrics.AUC(),tf.keras.metrics.BinaryAccuracy(),tf.keras.metrics.Recall(),tf.keras.metrics.Precision()])\n",
        "\n",
        "    return model\n"
      ],
      "metadata": {
        "id": "U2cAO2XxFEXB"
      },
      "id": "U2cAO2XxFEXB",
      "execution_count": null,
      "outputs": []
    },
    {
      "cell_type": "code",
      "source": [
        "y = df['target_bullying'].values"
      ],
      "metadata": {
        "id": "vxP44AQ1I2b0"
      },
      "id": "vxP44AQ1I2b0",
      "execution_count": null,
      "outputs": []
    },
    {
      "cell_type": "code",
      "source": [
        "from sklearn.model_selection import train_test_split\n",
        "X = X.toarray()\n",
        "X_train, X_test, y_train, y_test = train_test_split(X, y, test_size=0.20, random_state=42,stratify=y)"
      ],
      "metadata": {
        "id": "IP4p6lGlIwPL"
      },
      "id": "IP4p6lGlIwPL",
      "execution_count": null,
      "outputs": []
    },
    {
      "cell_type": "code",
      "source": [
        "model = build_model(X_train)\n",
        "histroy = model.fit(X_train,y_train,epochs=30,batch_size = 64,validation_data = (X_test,y_test)) "
      ],
      "metadata": {
        "colab": {
          "base_uri": "https://localhost:8080/"
        },
        "id": "i9czeWB6I83G",
        "outputId": "4dc098b8-31f6-4b5c-f237-69dc8bb0ebae"
      },
      "id": "i9czeWB6I83G",
      "execution_count": null,
      "outputs": [
        {
          "output_type": "stream",
          "name": "stdout",
          "text": [
            "Epoch 1/30\n",
            "597/597 [==============================] - 6s 7ms/step - loss: 0.4678 - auc_1: 0.8209 - binary_accuracy: 0.8472 - recall_1: 0.9755 - precision_1: 0.8599 - val_loss: 0.3192 - val_auc_1: 0.8958 - val_binary_accuracy: 0.8501 - val_recall_1: 0.9245 - val_precision_1: 0.8985\n",
            "Epoch 2/30\n",
            "597/597 [==============================] - 4s 6ms/step - loss: 0.3102 - auc_1: 0.8929 - binary_accuracy: 0.8613 - recall_1: 0.9503 - precision_1: 0.8906 - val_loss: 0.2977 - val_auc_1: 0.8994 - val_binary_accuracy: 0.8576 - val_recall_1: 0.9551 - val_precision_1: 0.8835\n",
            "Epoch 3/30\n",
            "597/597 [==============================] - 4s 6ms/step - loss: 0.2938 - auc_1: 0.9009 - binary_accuracy: 0.8641 - recall_1: 0.9498 - precision_1: 0.8938 - val_loss: 0.2879 - val_auc_1: 0.9024 - val_binary_accuracy: 0.8546 - val_recall_1: 0.9267 - val_precision_1: 0.9016\n",
            "Epoch 4/30\n",
            "597/597 [==============================] - 4s 6ms/step - loss: 0.2824 - auc_1: 0.9085 - binary_accuracy: 0.8701 - recall_1: 0.9527 - precision_1: 0.8977 - val_loss: 0.2840 - val_auc_1: 0.9046 - val_binary_accuracy: 0.8578 - val_recall_1: 0.9291 - val_precision_1: 0.9032\n",
            "Epoch 5/30\n",
            "597/597 [==============================] - 4s 7ms/step - loss: 0.2758 - auc_1: 0.9126 - binary_accuracy: 0.8741 - recall_1: 0.9568 - precision_1: 0.8987 - val_loss: 0.2821 - val_auc_1: 0.9055 - val_binary_accuracy: 0.8602 - val_recall_1: 0.9302 - val_precision_1: 0.9047\n",
            "Epoch 6/30\n",
            "597/597 [==============================] - 4s 6ms/step - loss: 0.2698 - auc_1: 0.9165 - binary_accuracy: 0.8790 - recall_1: 0.9583 - precision_1: 0.9025 - val_loss: 0.2782 - val_auc_1: 0.9064 - val_binary_accuracy: 0.8680 - val_recall_1: 0.9516 - val_precision_1: 0.8964\n",
            "Epoch 7/30\n",
            "597/597 [==============================] - 4s 6ms/step - loss: 0.2651 - auc_1: 0.9201 - binary_accuracy: 0.8843 - recall_1: 0.9604 - precision_1: 0.9064 - val_loss: 0.2780 - val_auc_1: 0.9069 - val_binary_accuracy: 0.8662 - val_recall_1: 0.9415 - val_precision_1: 0.9022\n",
            "Epoch 8/30\n",
            "597/597 [==============================] - 4s 6ms/step - loss: 0.2620 - auc_1: 0.9220 - binary_accuracy: 0.8842 - recall_1: 0.9617 - precision_1: 0.9052 - val_loss: 0.2756 - val_auc_1: 0.9073 - val_binary_accuracy: 0.8707 - val_recall_1: 0.9537 - val_precision_1: 0.8976\n",
            "Epoch 9/30\n",
            "597/597 [==============================] - 4s 6ms/step - loss: 0.2567 - auc_1: 0.9251 - binary_accuracy: 0.8867 - recall_1: 0.9626 - precision_1: 0.9071 - val_loss: 0.2798 - val_auc_1: 0.9072 - val_binary_accuracy: 0.8663 - val_recall_1: 0.9379 - val_precision_1: 0.9052\n",
            "Epoch 10/30\n",
            "597/597 [==============================] - 4s 6ms/step - loss: 0.2558 - auc_1: 0.9255 - binary_accuracy: 0.8877 - recall_1: 0.9625 - precision_1: 0.9083 - val_loss: 0.2785 - val_auc_1: 0.9072 - val_binary_accuracy: 0.8661 - val_recall_1: 0.9358 - val_precision_1: 0.9065\n",
            "Epoch 11/30\n",
            "597/597 [==============================] - 4s 6ms/step - loss: 0.2529 - auc_1: 0.9276 - binary_accuracy: 0.8898 - recall_1: 0.9629 - precision_1: 0.9101 - val_loss: 0.2775 - val_auc_1: 0.9071 - val_binary_accuracy: 0.8663 - val_recall_1: 0.9358 - val_precision_1: 0.9068\n",
            "Epoch 12/30\n",
            "597/597 [==============================] - 4s 6ms/step - loss: 0.2529 - auc_1: 0.9280 - binary_accuracy: 0.8904 - recall_1: 0.9641 - precision_1: 0.9098 - val_loss: 0.2781 - val_auc_1: 0.9067 - val_binary_accuracy: 0.8707 - val_recall_1: 0.9467 - val_precision_1: 0.9029\n",
            "Epoch 13/30\n",
            "597/597 [==============================] - 4s 6ms/step - loss: 0.2506 - auc_1: 0.9291 - binary_accuracy: 0.8909 - recall_1: 0.9643 - precision_1: 0.9101 - val_loss: 0.2738 - val_auc_1: 0.9078 - val_binary_accuracy: 0.8717 - val_recall_1: 0.9526 - val_precision_1: 0.8994\n",
            "Epoch 14/30\n",
            "597/597 [==============================] - 4s 6ms/step - loss: 0.2486 - auc_1: 0.9303 - binary_accuracy: 0.8919 - recall_1: 0.9641 - precision_1: 0.9113 - val_loss: 0.2796 - val_auc_1: 0.9071 - val_binary_accuracy: 0.8697 - val_recall_1: 0.9424 - val_precision_1: 0.9052\n",
            "Epoch 15/30\n",
            "597/597 [==============================] - 4s 6ms/step - loss: 0.2469 - auc_1: 0.9309 - binary_accuracy: 0.8945 - recall_1: 0.9644 - precision_1: 0.9138 - val_loss: 0.2810 - val_auc_1: 0.9064 - val_binary_accuracy: 0.8711 - val_recall_1: 0.9462 - val_precision_1: 0.9037\n",
            "Epoch 16/30\n",
            "597/597 [==============================] - 4s 6ms/step - loss: 0.2466 - auc_1: 0.9316 - binary_accuracy: 0.8954 - recall_1: 0.9654 - precision_1: 0.9140 - val_loss: 0.2815 - val_auc_1: 0.9063 - val_binary_accuracy: 0.8712 - val_recall_1: 0.9512 - val_precision_1: 0.8999\n",
            "Epoch 17/30\n",
            "597/597 [==============================] - 4s 6ms/step - loss: 0.2437 - auc_1: 0.9332 - binary_accuracy: 0.8964 - recall_1: 0.9658 - precision_1: 0.9147 - val_loss: 0.2903 - val_auc_1: 0.9048 - val_binary_accuracy: 0.8651 - val_recall_1: 0.9311 - val_precision_1: 0.9092\n",
            "Epoch 18/30\n",
            "597/597 [==============================] - 4s 6ms/step - loss: 0.2434 - auc_1: 0.9333 - binary_accuracy: 0.8969 - recall_1: 0.9654 - precision_1: 0.9155 - val_loss: 0.2803 - val_auc_1: 0.9061 - val_binary_accuracy: 0.8695 - val_recall_1: 0.9465 - val_precision_1: 0.9017\n",
            "Epoch 19/30\n",
            "597/597 [==============================] - 4s 6ms/step - loss: 0.2436 - auc_1: 0.9333 - binary_accuracy: 0.8960 - recall_1: 0.9654 - precision_1: 0.9145 - val_loss: 0.2808 - val_auc_1: 0.9059 - val_binary_accuracy: 0.8705 - val_recall_1: 0.9439 - val_precision_1: 0.9049\n",
            "Epoch 20/30\n",
            "597/597 [==============================] - 4s 6ms/step - loss: 0.2412 - auc_1: 0.9346 - binary_accuracy: 0.8965 - recall_1: 0.9657 - precision_1: 0.9148 - val_loss: 0.2790 - val_auc_1: 0.9064 - val_binary_accuracy: 0.8708 - val_recall_1: 0.9496 - val_precision_1: 0.9008\n",
            "Epoch 21/30\n",
            "597/597 [==============================] - 4s 6ms/step - loss: 0.2418 - auc_1: 0.9345 - binary_accuracy: 0.8971 - recall_1: 0.9658 - precision_1: 0.9154 - val_loss: 0.2931 - val_auc_1: 0.9058 - val_binary_accuracy: 0.8633 - val_recall_1: 0.9209 - val_precision_1: 0.9156\n",
            "Epoch 22/30\n",
            "597/597 [==============================] - 4s 7ms/step - loss: 0.2410 - auc_1: 0.9342 - binary_accuracy: 0.8963 - recall_1: 0.9655 - precision_1: 0.9147 - val_loss: 0.2753 - val_auc_1: 0.9065 - val_binary_accuracy: 0.8726 - val_recall_1: 0.9616 - val_precision_1: 0.8936\n",
            "Epoch 23/30\n",
            "597/597 [==============================] - 4s 6ms/step - loss: 0.2403 - auc_1: 0.9346 - binary_accuracy: 0.8992 - recall_1: 0.9671 - precision_1: 0.9165 - val_loss: 0.2927 - val_auc_1: 0.9045 - val_binary_accuracy: 0.8655 - val_recall_1: 0.9264 - val_precision_1: 0.9134\n",
            "Epoch 24/30\n",
            "597/597 [==============================] - 4s 6ms/step - loss: 0.2394 - auc_1: 0.9358 - binary_accuracy: 0.8995 - recall_1: 0.9663 - precision_1: 0.9174 - val_loss: 0.2838 - val_auc_1: 0.9039 - val_binary_accuracy: 0.8698 - val_recall_1: 0.9472 - val_precision_1: 0.9016\n",
            "Epoch 25/30\n",
            "597/597 [==============================] - 4s 6ms/step - loss: 0.2403 - auc_1: 0.9356 - binary_accuracy: 0.8995 - recall_1: 0.9676 - precision_1: 0.9164 - val_loss: 0.2887 - val_auc_1: 0.9065 - val_binary_accuracy: 0.8647 - val_recall_1: 0.9228 - val_precision_1: 0.9155\n",
            "Epoch 26/30\n",
            "597/597 [==============================] - 4s 6ms/step - loss: 0.2375 - auc_1: 0.9361 - binary_accuracy: 0.8990 - recall_1: 0.9652 - precision_1: 0.9179 - val_loss: 0.2814 - val_auc_1: 0.9059 - val_binary_accuracy: 0.8683 - val_recall_1: 0.9397 - val_precision_1: 0.9058\n",
            "Epoch 27/30\n",
            "597/597 [==============================] - 4s 6ms/step - loss: 0.2364 - auc_1: 0.9371 - binary_accuracy: 0.8997 - recall_1: 0.9668 - precision_1: 0.9174 - val_loss: 0.2802 - val_auc_1: 0.9034 - val_binary_accuracy: 0.8716 - val_recall_1: 0.9516 - val_precision_1: 0.9001\n",
            "Epoch 28/30\n",
            "597/597 [==============================] - 4s 6ms/step - loss: 0.2366 - auc_1: 0.9375 - binary_accuracy: 0.9011 - recall_1: 0.9677 - precision_1: 0.9181 - val_loss: 0.2869 - val_auc_1: 0.9039 - val_binary_accuracy: 0.8687 - val_recall_1: 0.9428 - val_precision_1: 0.9039\n",
            "Epoch 29/30\n",
            "597/597 [==============================] - 4s 6ms/step - loss: 0.2363 - auc_1: 0.9373 - binary_accuracy: 0.9010 - recall_1: 0.9673 - precision_1: 0.9182 - val_loss: 0.2874 - val_auc_1: 0.9050 - val_binary_accuracy: 0.8668 - val_recall_1: 0.9336 - val_precision_1: 0.9090\n",
            "Epoch 30/30\n",
            "597/597 [==============================] - 4s 6ms/step - loss: 0.2349 - auc_1: 0.9383 - binary_accuracy: 0.9008 - recall_1: 0.9677 - precision_1: 0.9178 - val_loss: 0.2805 - val_auc_1: 0.9066 - val_binary_accuracy: 0.8678 - val_recall_1: 0.9371 - val_precision_1: 0.9073\n"
          ]
        }
      ]
    },
    {
      "cell_type": "code",
      "source": [
        "from keras.utils import plot_model\n",
        "plot_model(model,'model.png',show_shapes=True,show_layer_activations=True)"
      ],
      "metadata": {
        "colab": {
          "base_uri": "https://localhost:8080/",
          "height": 865
        },
        "id": "TmH2037G4ndz",
        "outputId": "ce061ddf-6c9a-481a-8f6d-37d715936d05"
      },
      "id": "TmH2037G4ndz",
      "execution_count": null,
      "outputs": [
        {
          "output_type": "execute_result",
          "data": {
            "image/png": "[encoded data removed]",
            "text/plain": [
              "<IPython.core.display.Image object>"
            ]
          },
          "metadata": {},
          "execution_count": 32
        }
      ]
    },
    {
      "cell_type": "code",
      "source": [
        "def plot_graph(metric, history):\n",
        "  print(f\"\\n\\nBelow Displayed is a graph of {metric} vs val {metric}\\n\\n\\n\")\n",
        "  keys = list(history.history.keys())\n",
        "  train_key = [key for key in keys if key.startswith(metric)][0]\n",
        "  test_key = [key for key in keys if key.startswith(f\"val_{metric}\")][0]\n",
        "  plt.plot(history.history[train_key])\n",
        "  plt.plot(history.history[test_key])\n",
        "  plt.title(f'model {metric}')\n",
        "  plt.ylabel(metric)\n",
        "  plt.xlabel('epoch')\n",
        "  plt.legend(['train', 'test'], loc='upper left')\n",
        "  plt.show()"
      ],
      "metadata": {
        "id": "USWNteHeBtvJ"
      },
      "id": "USWNteHeBtvJ",
      "execution_count": null,
      "outputs": []
    },
    {
      "cell_type": "code",
      "source": [
        "len(model.layers)"
      ],
      "metadata": {
        "colab": {
          "base_uri": "https://localhost:8080/"
        },
        "id": "5iLJyBMZD2if",
        "outputId": "4e7097e5-d3f4-403f-bfd2-32e230957e78"
      },
      "id": "5iLJyBMZD2if",
      "execution_count": null,
      "outputs": [
        {
          "output_type": "execute_result",
          "data": {
            "text/plain": [
              "7"
            ]
          },
          "metadata": {},
          "execution_count": 36
        }
      ]
    },
    {
      "cell_type": "code",
      "source": [
        "# plot train loss vs val loss,\n",
        "plot_graph('loss',history)\n",
        "# plot train auc vs val auc\n",
        "plot_graph('auc',history)\n",
        "# plot train recall vs val recall\n",
        "plot_graph('recall',history)\n",
        "# plot train precision vs val precision\n",
        "plot_graph('precision',history)\n",
        "# plot train accuracy vs val accuracy\n",
        "plot_graph('accuracy',history)"
      ],
      "metadata": {
        "colab": {
          "base_uri": "https://localhost:8080/",
          "height": 1000
        },
        "id": "mrXYx43r9-oG",
        "outputId": "4b93e0b9-ace9-4e8c-f96c-aa7c158e9b51"
      },
      "id": "mrXYx43r9-oG",
      "execution_count": null,
      "outputs": [
        {
          "output_type": "stream",
          "name": "stdout",
          "text": [
            "\n",
            "\n",
            "Below Displayed is a graph of loss vs val loss\n",
            "\n",
            "\n",
            "\n"
          ]
        },
        {
          "output_type": "display_data",
          "data": {
            "text/plain": [
              "<Figure size 432x288 with 1 Axes>"
            ],
            "image/png": "[encoded data removed]"
          },
          "metadata": {
            "needs_background": "light"
          }
        },
        {
          "output_type": "stream",
          "name": "stdout",
          "text": [
            "\n",
            "\n",
            "Below Displayed is a graph of auc vs val auc\n",
            "\n",
            "\n",
            "\n"
          ]
        },
        {
          "output_type": "display_data",
          "data": {
            "text/plain": [
              "<Figure size 432x288 with 1 Axes>"
            ],
            "image/png": "[encoded data removed]"
          },
          "metadata": {
            "needs_background": "light"
          }
        },
        {
          "output_type": "stream",
          "name": "stdout",
          "text": [
            "\n",
            "\n",
            "Below Displayed is a graph of recall vs val recall\n",
            "\n",
            "\n",
            "\n"
          ]
        },
        {
          "output_type": "display_data",
          "data": {
            "text/plain": [
              "<Figure size 432x288 with 1 Axes>"
            ],
            "image/png": "[encoded data removed]"
          },
          "metadata": {
            "needs_background": "light"
          }
        },
        {
          "output_type": "stream",
          "name": "stdout",
          "text": [
            "\n",
            "\n",
            "Below Displayed is a graph of precision vs val precision\n",
            "\n",
            "\n",
            "\n"
          ]
        },
        {
          "output_type": "display_data",
          "data": {
            "text/plain": [
              "<Figure size 432x288 with 1 Axes>"
            ],
            "image/png": "[encoded data removed]"
          },
          "metadata": {
            "needs_background": "light"
          }
        },
        {
          "output_type": "stream",
          "name": "stdout",
          "text": [
            "\n",
            "\n",
            "Below Displayed is a graph of accuracy vs val accuracy\n",
            "\n",
            "\n",
            "\n"
          ]
        },
        {
          "output_type": "error",
          "ename": "IndexError",
          "evalue": "ignored",
          "traceback": [
            "\u001b[0;31m---------------------------------------------------------------------------\u001b[0m",
            "\u001b[0;31mIndexError\u001b[0m                                Traceback (most recent call last)",
            "\u001b[0;32m<ipython-input-34-e684a0a4994b>\u001b[0m in \u001b[0;36m<module>\u001b[0;34m\u001b[0m\n\u001b[1;32m      8\u001b[0m \u001b[0mplot_graph\u001b[0m\u001b[0;34m(\u001b[0m\u001b[0;34m'precision'\u001b[0m\u001b[0;34m,\u001b[0m\u001b[0mhistory\u001b[0m\u001b[0;34m)\u001b[0m\u001b[0;34m\u001b[0m\u001b[0;34m\u001b[0m\u001b[0m\n\u001b[1;32m      9\u001b[0m \u001b[0;31m# plot train accuracy vs val accuracy\u001b[0m\u001b[0;34m\u001b[0m\u001b[0;34m\u001b[0m\u001b[0;34m\u001b[0m\u001b[0m\n\u001b[0;32m---> 10\u001b[0;31m \u001b[0mplot_graph\u001b[0m\u001b[0;34m(\u001b[0m\u001b[0;34m'accuracy'\u001b[0m\u001b[0;34m,\u001b[0m\u001b[0mhistory\u001b[0m\u001b[0;34m)\u001b[0m\u001b[0;34m\u001b[0m\u001b[0;34m\u001b[0m\u001b[0m\n\u001b[0m",
            "\u001b[0;32m<ipython-input-33-27789eb58df3>\u001b[0m in \u001b[0;36mplot_graph\u001b[0;34m(metric, history)\u001b[0m\n\u001b[1;32m      2\u001b[0m   \u001b[0mprint\u001b[0m\u001b[0;34m(\u001b[0m\u001b[0;34mf\"\\n\\nBelow Displayed is a graph of {metric} vs val {metric}\\n\\n\\n\"\u001b[0m\u001b[0;34m)\u001b[0m\u001b[0;34m\u001b[0m\u001b[0;34m\u001b[0m\u001b[0m\n\u001b[1;32m      3\u001b[0m   \u001b[0mkeys\u001b[0m \u001b[0;34m=\u001b[0m \u001b[0mlist\u001b[0m\u001b[0;34m(\u001b[0m\u001b[0mhistory\u001b[0m\u001b[0;34m.\u001b[0m\u001b[0mhistory\u001b[0m\u001b[0;34m.\u001b[0m\u001b[0mkeys\u001b[0m\u001b[0;34m(\u001b[0m\u001b[0;34m)\u001b[0m\u001b[0;34m)\u001b[0m\u001b[0;34m\u001b[0m\u001b[0;34m\u001b[0m\u001b[0m\n\u001b[0;32m----> 4\u001b[0;31m   \u001b[0mtrain_key\u001b[0m \u001b[0;34m=\u001b[0m \u001b[0;34m[\u001b[0m\u001b[0mkey\u001b[0m \u001b[0;32mfor\u001b[0m \u001b[0mkey\u001b[0m \u001b[0;32min\u001b[0m \u001b[0mkeys\u001b[0m \u001b[0;32mif\u001b[0m \u001b[0mkey\u001b[0m\u001b[0;34m.\u001b[0m\u001b[0mstartswith\u001b[0m\u001b[0;34m(\u001b[0m\u001b[0mmetric\u001b[0m\u001b[0;34m)\u001b[0m\u001b[0;34m]\u001b[0m\u001b[0;34m[\u001b[0m\u001b[0;36m0\u001b[0m\u001b[0;34m]\u001b[0m\u001b[0;34m\u001b[0m\u001b[0;34m\u001b[0m\u001b[0m\n\u001b[0m\u001b[1;32m      5\u001b[0m   \u001b[0mtest_key\u001b[0m \u001b[0;34m=\u001b[0m \u001b[0;34m[\u001b[0m\u001b[0mkey\u001b[0m \u001b[0;32mfor\u001b[0m \u001b[0mkey\u001b[0m \u001b[0;32min\u001b[0m \u001b[0mkeys\u001b[0m \u001b[0;32mif\u001b[0m \u001b[0mkey\u001b[0m\u001b[0;34m.\u001b[0m\u001b[0mstartswith\u001b[0m\u001b[0;34m(\u001b[0m\u001b[0;34mf\"val_{metric}\"\u001b[0m\u001b[0;34m)\u001b[0m\u001b[0;34m]\u001b[0m\u001b[0;34m[\u001b[0m\u001b[0;36m0\u001b[0m\u001b[0;34m]\u001b[0m\u001b[0;34m\u001b[0m\u001b[0;34m\u001b[0m\u001b[0m\n\u001b[1;32m      6\u001b[0m   \u001b[0mplt\u001b[0m\u001b[0;34m.\u001b[0m\u001b[0mplot\u001b[0m\u001b[0;34m(\u001b[0m\u001b[0mhistory\u001b[0m\u001b[0;34m.\u001b[0m\u001b[0mhistory\u001b[0m\u001b[0;34m[\u001b[0m\u001b[0mtrain_key\u001b[0m\u001b[0;34m]\u001b[0m\u001b[0;34m)\u001b[0m\u001b[0;34m\u001b[0m\u001b[0;34m\u001b[0m\u001b[0m\n",
            "\u001b[0;31mIndexError\u001b[0m: list index out of range"
          ]
        }
      ]
    },
    {
      "cell_type": "markdown",
      "source": [
        "# ANN 2"
      ],
      "metadata": {
        "id": "EGXeBu6wKt55"
      },
      "id": "EGXeBu6wKt55"
    },
    {
      "cell_type": "code",
      "source": [
        "def build_model(X):\n",
        "    # layer 1 : input layer\n",
        "    inp = tf.keras.Input((X.shape[1],))\n",
        "    model = tf.keras.Sequential()\n",
        "\n",
        "    # layer 2 : add the dense layer with 64 units and relu activation\n",
        "    model.add(tf.keras.layers.Dense(64, activation='relu'))\n",
        "\n",
        "    # layer 3 : add the dropout layer with dropout rate of 0.5\n",
        "    model.add(tf.keras.layers.Dropout(0.5))\n",
        "    # layer 4 : add the dense layer with 32 units with tanh activation and with l2 regularization\n",
        "    model.add(tf.keras.layers.Dense(32, activation='tanh', kernel_regularizer='l2'))\n",
        "\n",
        "    # layer 5 : add the dropout layer with dropout rate of 0.5\n",
        "    model.add(tf.keras.layers.Dropout(0.5))\n",
        "\n",
        "    # layer 6 : add the dense layer with 16 units with tanh activation and with l2 regularization\n",
        "    model.add(tf.keras.layers.Dense(16, activation='tanh', kernel_regularizer='l2'))\n",
        "\n",
        "    # layer 7 : add the dropout layer with dropout rate of 0.5\n",
        "    model.add(tf.keras.layers.Dropout(0.5))\n",
        "\n",
        "    # layer 8 : output layer with units equal to 1 and activation as sigmoid\n",
        "    model.add(tf.keras.layers.Dense(6, activation='softmax'))\n",
        "\n",
        "    # use loss as binary crossentropy, optimizer as rmsprop and evaluate model on auc \n",
        "    model.compile(loss='categorical_crossentropy', optimizer='rmsprop', metrics=[tf.keras.metrics.AUC(),tf.keras.metrics.CategoricalAccuracy(),tf.keras.metrics.Recall(),tf.keras.metrics.Precision()])\n",
        "\n",
        "    return model\n"
      ],
      "metadata": {
        "id": "7S9szx4uKv52"
      },
      "id": "7S9szx4uKv52",
      "execution_count": null,
      "outputs": []
    },
    {
      "cell_type": "code",
      "source": [
        "from sklearn.preprocessing import OneHotEncoder\n",
        "enc = OneHotEncoder()\n",
        "y = df['type_bullying'].values\n",
        "y = enc.fit_transform(y.reshape(-1,1)).toarray()"
      ],
      "metadata": {
        "id": "DWBrTw3HLkLa"
      },
      "id": "DWBrTw3HLkLa",
      "execution_count": null,
      "outputs": []
    },
    {
      "cell_type": "code",
      "source": [
        "from sklearn.model_selection import train_test_split\n",
        "#X = X.toarray()\n",
        "X_train, X_test, y_train, y_test = train_test_split(X, y, test_size=0.20, random_state=42,stratify=y)"
      ],
      "metadata": {
        "id": "NbWr1d5WLplj"
      },
      "id": "NbWr1d5WLplj",
      "execution_count": null,
      "outputs": []
    },
    {
      "cell_type": "code",
      "source": [
        "model = build_model(X_train)\n",
        "history = model.fit(X_train,y_train,epochs=30,batch_size = 32,validation_data = (X_test,y_test))"
      ],
      "metadata": {
        "colab": {
          "base_uri": "https://localhost:8080/"
        },
        "id": "_8BQupjTLuxM",
        "outputId": "d4f32cae-815f-413d-a1ba-e8e9156d11aa"
      },
      "id": "_8BQupjTLuxM",
      "execution_count": null,
      "outputs": [
        {
          "output_type": "stream",
          "name": "stdout",
          "text": [
            "Epoch 1/30\n",
            "1193/1193 [==============================] - 9s 7ms/step - loss: 1.1946 - auc_2: 0.9073 - categorical_accuracy: 0.6300 - recall_2: 0.3775 - precision_2: 0.9234 - val_loss: 0.6965 - val_auc_2: 0.9705 - val_categorical_accuracy: 0.7653 - val_recall_2: 0.5948 - val_precision_2: 0.9484\n",
            "Epoch 2/30\n",
            "1193/1193 [==============================] - 7s 6ms/step - loss: 0.7444 - auc_2: 0.9617 - categorical_accuracy: 0.7492 - recall_2: 0.5666 - precision_2: 0.9406 - val_loss: 0.5992 - val_auc_2: 0.9731 - val_categorical_accuracy: 0.7981 - val_recall_2: 0.6093 - val_precision_2: 0.9489\n",
            "Epoch 3/30\n",
            "1193/1193 [==============================] - 7s 6ms/step - loss: 0.6664 - auc_2: 0.9659 - categorical_accuracy: 0.7612 - recall_2: 0.5846 - precision_2: 0.9424 - val_loss: 0.5671 - val_auc_2: 0.9743 - val_categorical_accuracy: 0.7997 - val_recall_2: 0.6125 - val_precision_2: 0.9501\n",
            "Epoch 4/30\n",
            "1193/1193 [==============================] - 7s 6ms/step - loss: 0.6237 - auc_2: 0.9688 - categorical_accuracy: 0.7778 - recall_2: 0.6079 - precision_2: 0.9320 - val_loss: 0.5520 - val_auc_2: 0.9750 - val_categorical_accuracy: 0.8163 - val_recall_2: 0.6194 - val_precision_2: 0.9441\n",
            "Epoch 5/30\n",
            "1193/1193 [==============================] - 7s 6ms/step - loss: 0.5974 - auc_2: 0.9707 - categorical_accuracy: 0.7893 - recall_2: 0.6381 - precision_2: 0.9167 - val_loss: 0.5258 - val_auc_2: 0.9762 - val_categorical_accuracy: 0.8138 - val_recall_2: 0.6659 - val_precision_2: 0.9218\n",
            "Epoch 6/30\n",
            "1193/1193 [==============================] - 7s 6ms/step - loss: 0.5795 - auc_2: 0.9718 - categorical_accuracy: 0.7967 - recall_2: 0.6629 - precision_2: 0.9037 - val_loss: 0.5203 - val_auc_2: 0.9767 - val_categorical_accuracy: 0.8222 - val_recall_2: 0.7219 - val_precision_2: 0.8974\n",
            "Epoch 7/30\n",
            "1193/1193 [==============================] - 7s 6ms/step - loss: 0.5664 - auc_2: 0.9730 - categorical_accuracy: 0.8012 - recall_2: 0.6938 - precision_2: 0.8937 - val_loss: 0.5154 - val_auc_2: 0.9768 - val_categorical_accuracy: 0.8181 - val_recall_2: 0.7261 - val_precision_2: 0.8945\n",
            "Epoch 8/30\n",
            "1193/1193 [==============================] - 7s 6ms/step - loss: 0.5592 - auc_2: 0.9733 - categorical_accuracy: 0.8072 - recall_2: 0.7060 - precision_2: 0.8879 - val_loss: 0.5068 - val_auc_2: 0.9771 - val_categorical_accuracy: 0.8169 - val_recall_2: 0.7295 - val_precision_2: 0.8910\n",
            "Epoch 9/30\n",
            "1193/1193 [==============================] - 7s 6ms/step - loss: 0.5497 - auc_2: 0.9739 - categorical_accuracy: 0.8112 - recall_2: 0.7200 - precision_2: 0.8833 - val_loss: 0.5037 - val_auc_2: 0.9772 - val_categorical_accuracy: 0.8244 - val_recall_2: 0.7530 - val_precision_2: 0.8849\n",
            "Epoch 10/30\n",
            "1193/1193 [==============================] - 7s 6ms/step - loss: 0.5420 - auc_2: 0.9744 - categorical_accuracy: 0.8121 - recall_2: 0.7261 - precision_2: 0.8820 - val_loss: 0.4980 - val_auc_2: 0.9773 - val_categorical_accuracy: 0.8258 - val_recall_2: 0.7590 - val_precision_2: 0.8812\n",
            "Epoch 11/30\n",
            "1193/1193 [==============================] - 7s 6ms/step - loss: 0.5363 - auc_2: 0.9747 - categorical_accuracy: 0.8174 - recall_2: 0.7371 - precision_2: 0.8795 - val_loss: 0.5023 - val_auc_2: 0.9768 - val_categorical_accuracy: 0.8157 - val_recall_2: 0.7504 - val_precision_2: 0.8787\n",
            "Epoch 12/30\n",
            "1193/1193 [==============================] - 7s 6ms/step - loss: 0.5350 - auc_2: 0.9750 - categorical_accuracy: 0.8174 - recall_2: 0.7423 - precision_2: 0.8789 - val_loss: 0.4985 - val_auc_2: 0.9769 - val_categorical_accuracy: 0.8247 - val_recall_2: 0.7657 - val_precision_2: 0.8725\n",
            "Epoch 13/30\n",
            "1193/1193 [==============================] - 7s 6ms/step - loss: 0.5308 - auc_2: 0.9752 - categorical_accuracy: 0.8183 - recall_2: 0.7452 - precision_2: 0.8774 - val_loss: 0.4987 - val_auc_2: 0.9769 - val_categorical_accuracy: 0.8207 - val_recall_2: 0.7586 - val_precision_2: 0.8737\n",
            "Epoch 14/30\n",
            "1193/1193 [==============================] - 7s 6ms/step - loss: 0.5214 - auc_2: 0.9757 - categorical_accuracy: 0.8233 - recall_2: 0.7518 - precision_2: 0.8787 - val_loss: 0.4969 - val_auc_2: 0.9769 - val_categorical_accuracy: 0.8271 - val_recall_2: 0.7691 - val_precision_2: 0.8716\n",
            "Epoch 15/30\n",
            "1193/1193 [==============================] - 7s 6ms/step - loss: 0.5208 - auc_2: 0.9756 - categorical_accuracy: 0.8238 - recall_2: 0.7552 - precision_2: 0.8778 - val_loss: 0.4967 - val_auc_2: 0.9768 - val_categorical_accuracy: 0.8243 - val_recall_2: 0.7628 - val_precision_2: 0.8735\n",
            "Epoch 16/30\n",
            "1193/1193 [==============================] - 7s 6ms/step - loss: 0.5214 - auc_2: 0.9755 - categorical_accuracy: 0.8218 - recall_2: 0.7558 - precision_2: 0.8769 - val_loss: 0.4916 - val_auc_2: 0.9770 - val_categorical_accuracy: 0.8267 - val_recall_2: 0.7800 - val_precision_2: 0.8666\n",
            "Epoch 17/30\n",
            "1193/1193 [==============================] - 7s 6ms/step - loss: 0.5161 - auc_2: 0.9762 - categorical_accuracy: 0.8244 - recall_2: 0.7588 - precision_2: 0.8774 - val_loss: 0.4902 - val_auc_2: 0.9772 - val_categorical_accuracy: 0.8260 - val_recall_2: 0.7589 - val_precision_2: 0.8789\n",
            "Epoch 18/30\n",
            "1193/1193 [==============================] - 7s 6ms/step - loss: 0.5144 - auc_2: 0.9759 - categorical_accuracy: 0.8252 - recall_2: 0.7599 - precision_2: 0.8775 - val_loss: 0.5000 - val_auc_2: 0.9764 - val_categorical_accuracy: 0.8286 - val_recall_2: 0.7654 - val_precision_2: 0.8746\n",
            "Epoch 19/30\n",
            "1193/1193 [==============================] - 7s 6ms/step - loss: 0.5153 - auc_2: 0.9759 - categorical_accuracy: 0.8248 - recall_2: 0.7599 - precision_2: 0.8789 - val_loss: 0.4885 - val_auc_2: 0.9771 - val_categorical_accuracy: 0.8249 - val_recall_2: 0.7659 - val_precision_2: 0.8712\n",
            "Epoch 20/30\n",
            "1193/1193 [==============================] - 7s 5ms/step - loss: 0.5106 - auc_2: 0.9764 - categorical_accuracy: 0.8269 - recall_2: 0.7691 - precision_2: 0.8752 - val_loss: 0.4955 - val_auc_2: 0.9766 - val_categorical_accuracy: 0.8268 - val_recall_2: 0.7726 - val_precision_2: 0.8697\n",
            "Epoch 21/30\n",
            "1193/1193 [==============================] - 7s 6ms/step - loss: 0.5102 - auc_2: 0.9762 - categorical_accuracy: 0.8268 - recall_2: 0.7669 - precision_2: 0.8757 - val_loss: 0.4978 - val_auc_2: 0.9766 - val_categorical_accuracy: 0.8287 - val_recall_2: 0.7768 - val_precision_2: 0.8726\n",
            "Epoch 22/30\n",
            "1193/1193 [==============================] - 7s 6ms/step - loss: 0.5067 - auc_2: 0.9766 - categorical_accuracy: 0.8295 - recall_2: 0.7677 - precision_2: 0.8789 - val_loss: 0.4906 - val_auc_2: 0.9768 - val_categorical_accuracy: 0.8278 - val_recall_2: 0.7961 - val_precision_2: 0.8593\n",
            "Epoch 23/30\n",
            "1193/1193 [==============================] - 7s 6ms/step - loss: 0.5082 - auc_2: 0.9766 - categorical_accuracy: 0.8288 - recall_2: 0.7703 - precision_2: 0.8783 - val_loss: 0.4861 - val_auc_2: 0.9774 - val_categorical_accuracy: 0.8266 - val_recall_2: 0.7775 - val_precision_2: 0.8674\n",
            "Epoch 24/30\n",
            "1193/1193 [==============================] - 7s 6ms/step - loss: 0.5078 - auc_2: 0.9767 - categorical_accuracy: 0.8292 - recall_2: 0.7737 - precision_2: 0.8765 - val_loss: 0.4958 - val_auc_2: 0.9761 - val_categorical_accuracy: 0.8119 - val_recall_2: 0.7631 - val_precision_2: 0.8633\n",
            "Epoch 25/30\n",
            "1193/1193 [==============================] - 7s 6ms/step - loss: 0.5087 - auc_2: 0.9765 - categorical_accuracy: 0.8322 - recall_2: 0.7733 - precision_2: 0.8796 - val_loss: 0.5007 - val_auc_2: 0.9762 - val_categorical_accuracy: 0.8306 - val_recall_2: 0.7776 - val_precision_2: 0.8721\n",
            "Epoch 26/30\n",
            "1193/1193 [==============================] - 7s 6ms/step - loss: 0.4994 - auc_2: 0.9772 - categorical_accuracy: 0.8332 - recall_2: 0.7781 - precision_2: 0.8809 - val_loss: 0.4933 - val_auc_2: 0.9767 - val_categorical_accuracy: 0.8309 - val_recall_2: 0.7944 - val_precision_2: 0.8608\n",
            "Epoch 27/30\n",
            "1193/1193 [==============================] - 7s 6ms/step - loss: 0.4977 - auc_2: 0.9772 - categorical_accuracy: 0.8312 - recall_2: 0.7758 - precision_2: 0.8775 - val_loss: 0.4931 - val_auc_2: 0.9769 - val_categorical_accuracy: 0.8276 - val_recall_2: 0.7831 - val_precision_2: 0.8677\n",
            "Epoch 28/30\n",
            "1193/1193 [==============================] - 7s 6ms/step - loss: 0.5001 - auc_2: 0.9772 - categorical_accuracy: 0.8319 - recall_2: 0.7767 - precision_2: 0.8771 - val_loss: 0.4863 - val_auc_2: 0.9771 - val_categorical_accuracy: 0.8293 - val_recall_2: 0.7949 - val_precision_2: 0.8620\n",
            "Epoch 29/30\n",
            "1193/1193 [==============================] - 7s 6ms/step - loss: 0.4927 - auc_2: 0.9775 - categorical_accuracy: 0.8337 - recall_2: 0.7770 - precision_2: 0.8812 - val_loss: 0.4982 - val_auc_2: 0.9764 - val_categorical_accuracy: 0.8273 - val_recall_2: 0.7801 - val_precision_2: 0.8627\n",
            "Epoch 30/30\n",
            "1193/1193 [==============================] - 7s 6ms/step - loss: 0.4997 - auc_2: 0.9770 - categorical_accuracy: 0.8330 - recall_2: 0.7808 - precision_2: 0.8776 - val_loss: 0.5061 - val_auc_2: 0.9757 - val_categorical_accuracy: 0.8312 - val_recall_2: 0.7822 - val_precision_2: 0.8690\n"
          ]
        }
      ]
    },
    {
      "cell_type": "code",
      "source": [
        "from keras.utils import plot_model\n",
        "plot_model(model,'model.png',show_shapes=True,show_layer_activations=True)"
      ],
      "metadata": {
        "id": "vuRdH8cZCjmp"
      },
      "id": "vuRdH8cZCjmp",
      "execution_count": null,
      "outputs": []
    },
    {
      "cell_type": "code",
      "source": [
        "model.summary()"
      ],
      "metadata": {
        "colab": {
          "base_uri": "https://localhost:8080/"
        },
        "id": "raB6gYugEySt",
        "outputId": "4cdf8c34-d13f-4418-ef67-ef793e9f5711"
      },
      "id": "raB6gYugEySt",
      "execution_count": null,
      "outputs": [
        {
          "output_type": "stream",
          "name": "stdout",
          "text": [
            "Model: \"sequential_2\"\n",
            "_________________________________________________________________\n",
            " Layer (type)                Output Shape              Param #   \n",
            "=================================================================\n",
            " dense_8 (Dense)             (None, 64)                612096    \n",
            "                                                                 \n",
            " dropout_6 (Dropout)         (None, 64)                0         \n",
            "                                                                 \n",
            " dense_9 (Dense)             (None, 32)                2080      \n",
            "                                                                 \n",
            " dropout_7 (Dropout)         (None, 32)                0         \n",
            "                                                                 \n",
            " dense_10 (Dense)            (None, 16)                528       \n",
            "                                                                 \n",
            " dropout_8 (Dropout)         (None, 16)                0         \n",
            "                                                                 \n",
            " dense_11 (Dense)            (None, 6)                 102       \n",
            "                                                                 \n",
            "=================================================================\n",
            "Total params: 614,806\n",
            "Trainable params: 614,806\n",
            "Non-trainable params: 0\n",
            "_________________________________________________________________\n"
          ]
        }
      ]
    }
  ],
  "metadata": {
    "kernelspec": {
      "display_name": "Python 3",
      "language": "python",
      "name": "python3"
    },
    "language_info": {
      "codemirror_mode": {
        "name": "ipython",
        "version": 3
      },
      "file_extension": ".py",
      "mimetype": "text/x-python",
      "name": "python",
      "nbconvert_exporter": "python",
      "pygments_lexer": "ipython3",
      "version": "3.8.5"
    },
    "colab": {
      "provenance": [],
      "machine_shape": "hm"
    },
    "accelerator": "GPU",
    "gpuClass": "standard"
  },
  "nbformat": 4,
  "nbformat_minor": 5
}